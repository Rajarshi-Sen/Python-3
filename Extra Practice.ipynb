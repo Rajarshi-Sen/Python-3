{
 "cells": [
  {
   "cell_type": "code",
   "execution_count": 6,
   "metadata": {},
   "outputs": [
    {
     "ename": "SyntaxError",
     "evalue": "invalid syntax (<ipython-input-6-53e343f6698d>, line 2)",
     "output_type": "error",
     "traceback": [
      "\u001b[1;36m  File \u001b[1;32m\"<ipython-input-6-53e343f6698d>\"\u001b[1;36m, line \u001b[1;32m2\u001b[0m\n\u001b[1;33m    def f(global x=10):\u001b[0m\n\u001b[1;37m               ^\u001b[0m\n\u001b[1;31mSyntaxError\u001b[0m\u001b[1;31m:\u001b[0m invalid syntax\n"
     ]
    }
   ],
   "source": [
    "def f(x=10)\n",
    "    return x"
   ]
  },
  {
   "cell_type": "code",
   "execution_count": 7,
   "metadata": {},
   "outputs": [
    {
     "data": {
      "text/plain": [
       "10"
      ]
     },
     "execution_count": 7,
     "metadata": {},
     "output_type": "execute_result"
    }
   ],
   "source": [
    "f()"
   ]
  },
  {
   "cell_type": "code",
   "execution_count": 1,
   "metadata": {},
   "outputs": [
    {
     "name": "stdout",
     "output_type": "stream",
     "text": [
      "\n",
      "Welcome to Python 3.6's help utility!\n",
      "\n",
      "If this is your first time using Python, you should definitely check out\n",
      "the tutorial on the Internet at http://docs.python.org/3.6/tutorial/.\n",
      "\n",
      "Enter the name of any module, keyword, or topic to get help on writing\n",
      "Python programs and using Python modules.  To quit this help utility and\n",
      "return to the interpreter, just type \"quit\".\n",
      "\n",
      "To get a list of available modules, keywords, symbols, or topics, type\n",
      "\"modules\", \"keywords\", \"symbols\", or \"topics\".  Each module also comes\n",
      "with a one-line summary of what it does; to list the modules whose name\n",
      "or summary contain a given string such as \"spam\", type \"modules spam\".\n",
      "\n",
      "help> zip\n",
      "Help on class zip in module builtins:\n",
      "\n",
      "class zip(object)\n",
      " |  zip(iter1 [,iter2 [...]]) --> zip object\n",
      " |  \n",
      " |  Return a zip object whose .__next__() method returns a tuple where\n",
      " |  the i-th element comes from the i-th iterable argument.  The .__next__()\n",
      " |  method continues until the shortest iterable in the argument sequence\n",
      " |  is exhausted and then it raises StopIteration.\n",
      " |  \n",
      " |  Methods defined here:\n",
      " |  \n",
      " |  __getattribute__(self, name, /)\n",
      " |      Return getattr(self, name).\n",
      " |  \n",
      " |  __iter__(self, /)\n",
      " |      Implement iter(self).\n",
      " |  \n",
      " |  __new__(*args, **kwargs) from builtins.type\n",
      " |      Create and return a new object.  See help(type) for accurate signature.\n",
      " |  \n",
      " |  __next__(self, /)\n",
      " |      Implement next(self).\n",
      " |  \n",
      " |  __reduce__(...)\n",
      " |      Return state information for pickling.\n",
      "\n",
      "help> quit\n",
      "\n",
      "You are now leaving help and returning to the Python interpreter.\n",
      "If you want to ask for help on a particular object directly from the\n",
      "interpreter, you can type \"help(object)\".  Executing \"help('string')\"\n",
      "has the same effect as typing a particular string at the help> prompt.\n"
     ]
    }
   ],
   "source": [
    "help()"
   ]
  },
  {
   "cell_type": "code",
   "execution_count": 4,
   "metadata": {},
   "outputs": [
    {
     "name": "stdout",
     "output_type": "stream",
     "text": [
      "Pre: [['clean', 'build'], ['metadata', 'binary'], ['build', 'link'], ['link', 'binary'], ['clean', 'metadata'], ['build', 'resources']]  cur:  [['clean', 'build', 'link', 'clean', 'build']]\n",
      "WorkFlow:  [[['clean', 'build', 'link', 'clean', 'build']], []]\n",
      "END OF FOR\n",
      "Fail\n",
      "Pre: [['boil', 'serve'], ['chop', 'boil'], ['stir', 'boil'], ['set table', 'serve']]  cur:  [['chop', 'stir', 'set table']]\n",
      "WorkFlow:  [[['chop', 'stir', 'set table']], []]\n",
      "END OF FOR\n",
      "Fail\n"
     ]
    }
   ],
   "source": [
    "def create_workflow_stages(precursor_steps):\n",
    "    # IMPLEMENTATION GOES HERE\n",
    "    # May 2018\n",
    "    \n",
    "    workflow_stages = []\n",
    "      \n",
    "    # to get the first stage\n",
    "    i = 0\n",
    "    first = []\n",
    "    for list_elem in precursor_steps:\n",
    "        stage = precursor_steps[i][0]\n",
    "        flag = 0\n",
    "        j = i + 1\n",
    "        while j < len(precursor_steps):\n",
    "            if stage == precursor_steps[j][1]:\n",
    "                flag = 1\n",
    "                break\n",
    "            j += 1\n",
    "        if flag == 0:\n",
    "            first.append(stage)\n",
    "        i += 1\n",
    "    \n",
    "    workflow_stages.append([first])\n",
    "    cur_stage = [workflow_stages[0][0]]\n",
    "    \n",
    "    for stage in cur_stage:\n",
    "        next_stage = []\n",
    "        if len(precursor_steps) <= 0:\n",
    "            break\n",
    "        for list_element in precursor_steps:\n",
    "            #print(\"Stage:\", stage, \" List:\", list_element)\n",
    "            if stage == list_element[0]:\n",
    "                i = 1\n",
    "                while i < len(list_element):\n",
    "                    next_stage.append(list_element[i])\n",
    "                    cur_stage.append(list_element[i])\n",
    "                    i += 1\n",
    "                    \n",
    "                precursor_steps.remove(list_element)\n",
    "        \n",
    "        workflow_stages.append(next_stage)\n",
    "        print(\"Pre:\", precursor_steps, \" cur: \", cur_stage,)\n",
    "        \n",
    "        print(\"WorkFlow: \", workflow_stages)\n",
    "        \n",
    "    print(\"END OF FOR\")\n",
    "    del(workflow_stages[-1])\n",
    "    \n",
    "    return workflow_stages\n",
    "\n",
    "# START TEST CASES\n",
    "# You can add test cases in the two lists below. Each test case\n",
    "# input/expected output should correspond to the same index in the\n",
    "# respective lists returned.\n",
    "test_inputs = [\n",
    "    [[\"clean\",\"build\"], [\"metadata\",\"binary\"], [\"build\",\"link\"], [\"link\",\"binary\"], [\"clean\",\"metadata\"], [\"build\",\"resources\"]],\n",
    "    [[\"boil\",\"serve\"], [\"chop\", \"boil\"], [\"stir\", \"boil\"], [\"set table\", \"serve\"]]\n",
    "]\n",
    "\n",
    "test_outputs = [\n",
    "    [[\"clean\"], [\"build\",\"metadata\"], [\"resources\",\"link\"], [\"binary\"]],\n",
    "    [[\"chop\",\"stir\",\"set table\"], [\"boil\"], [\"serve\"]]\n",
    "]\n",
    "# END TEST CASES\n",
    "\n",
    "# DO NOT MODIFY MAIN()\n",
    "def main():\n",
    "    for test_input, test_output in zip(test_inputs, test_outputs):\n",
    "        try:\n",
    "            #print(1, test_input)\n",
    "            result = create_workflow_stages(test_input)\n",
    "            #print(2, result)\n",
    "            #print(2, test_output)\n",
    "            \n",
    "            if len(result)==len(test_output) and all(map(lambda k: sorted(result[k]) == sorted(test_output[k]), range(len(result)))):\n",
    "                print('Pass')\n",
    "            else:\n",
    "                print('Fail')\n",
    "        except Exception as e:\n",
    "            print('Fail')\n",
    "            print(e)\n",
    "\n",
    "if __name__ == \"__main__\":\n",
    "    main()\n"
   ]
  },
  {
   "cell_type": "code",
   "execution_count": null,
   "metadata": {
    "collapsed": true
   },
   "outputs": [],
   "source": []
  }
 ],
 "metadata": {
  "kernelspec": {
   "display_name": "Python 3",
   "language": "python",
   "name": "python3"
  },
  "language_info": {
   "codemirror_mode": {
    "name": "ipython",
    "version": 3
   },
   "file_extension": ".py",
   "mimetype": "text/x-python",
   "name": "python",
   "nbconvert_exporter": "python",
   "pygments_lexer": "ipython3",
   "version": "3.6.1"
  }
 },
 "nbformat": 4,
 "nbformat_minor": 2
}
