{
 "cells": [
  {
   "cell_type": "markdown",
   "metadata": {},
   "source": [
    "## Tree: a brief promenade through Fractals"
   ]
  },
  {
   "cell_type": "code",
   "execution_count": 1,
   "metadata": {
    "collapsed": true
   },
   "outputs": [],
   "source": [
    "import turtle\n",
    "def tree(length,level):\n",
    "    if level==1:\n",
    "        turtle.forward(length)\n",
    "        turtle.backward(length)\n",
    "    else:\n",
    "        turtle.forward(length)\n",
    "        turtle.left(45)\n",
    "        tree(length/2,level-1)\n",
    "        turtle.right(90)\n",
    "        tree(length/2,level-1)\n",
    "        turtle.left(45)\n",
    "        turtle.backward(length)"
   ]
  },
  {
   "cell_type": "code",
   "execution_count": 2,
   "metadata": {
    "collapsed": true
   },
   "outputs": [],
   "source": [
    "import turtle\n",
    "turtle.setheading(90)\n",
    "tree(200,7)\n",
    "turtle.done()"
   ]
  },
  {
   "cell_type": "markdown",
   "metadata": {
    "collapsed": true
   },
   "source": [
    "## Garden: Attempt for extra credit"
   ]
  },
  {
   "cell_type": "code",
   "execution_count": 1,
   "metadata": {
    "collapsed": true
   },
   "outputs": [],
   "source": [
    "import turtle\n",
    "# for randomness\n",
    "def curve(length,direction):\n",
    "    def repeat(times):\n",
    "        if times>0:\n",
    "            turtle.forward(1)\n",
    "            eval(\"turtle.\"+direction+\"(1)\")\n",
    "            return repeat(times-1)\n",
    "        return\n",
    "    return repeat(length)"
   ]
  },
  {
   "cell_type": "code",
   "execution_count": 2,
   "metadata": {},
   "outputs": [],
   "source": [
    "curve(30,\"left\")\n",
    "turtle.done()"
   ]
  },
  {
   "cell_type": "code",
   "execution_count": null,
   "metadata": {
    "collapsed": true
   },
   "outputs": [],
   "source": []
  }
 ],
 "metadata": {
  "kernelspec": {
   "display_name": "Python 3",
   "language": "python",
   "name": "python3"
  },
  "language_info": {
   "codemirror_mode": {
    "name": "ipython",
    "version": 3
   },
   "file_extension": ".py",
   "mimetype": "text/x-python",
   "name": "python",
   "nbconvert_exporter": "python",
   "pygments_lexer": "ipython3",
   "version": "3.6.1"
  }
 },
 "nbformat": 4,
 "nbformat_minor": 2
}
