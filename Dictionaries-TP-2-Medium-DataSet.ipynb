{
 "cells": [
  {
   "cell_type": "markdown",
   "metadata": {},
   "source": [
    "## Medium DataSet"
   ]
  },
  {
   "cell_type": "code",
   "execution_count": 2,
   "metadata": {},
   "outputs": [
    {
     "name": "stdout",
     "output_type": "stream",
     "text": [
      "D:\\NIU\\Course Details\\Fall-17\\Python\\2-Imperative Programming\n"
     ]
    }
   ],
   "source": [
    "cd \"D:\\NIU\\Course Details\\Fall-17\\Python\\2-Imperative Programming\""
   ]
  },
  {
   "cell_type": "code",
   "execution_count": 11,
   "metadata": {},
   "outputs": [],
   "source": [
    "f = open(\"data.csv\")\n",
    "cleaned_F = open(\"cleaned_data.csv\",'w')\n",
    "cleaned_F.write(f.readline())\n",
    "for line in f:\n",
    "    res = \"\"\n",
    "    line.strip(\"\\n\")\n",
    "    tokens = line.split(',')\n",
    "    res = (tokens[0]+',')\n",
    "    #slicing the list\n",
    "    tokens = tokens[1:len(tokens)-1]\n",
    "    for cell in tokens:\n",
    "        if cell == \"0\":\n",
    "            res += cell+\",\"\n",
    "        else:\n",
    "            res += \"1,\"\n",
    "    res = res[0:len(res)-1]\n",
    "    res += \"\\n\"\n",
    "    cleaned_F.write(res)\n",
    "f.close()\n",
    "cleaned_F.close()\n",
    "        \n",
    "    \n",
    "    "
   ]
  },
  {
   "cell_type": "markdown",
   "metadata": {},
   "source": [
    "## Average of each Column"
   ]
  },
  {
   "cell_type": "code",
   "execution_count": 14,
   "metadata": {},
   "outputs": [],
   "source": [
    "f = open(\"data.csv\")\n",
    "#avg_F = open(\"average.csv\",'w')\n",
    "res = f.readline().split(',')\n",
    "res = res[1:len(res)-1]\n",
    "\n",
    "\n",
    "f.close()\n",
    "#avg_F.close()"
   ]
  },
  {
   "cell_type": "code",
   "execution_count": null,
   "metadata": {
    "collapsed": true
   },
   "outputs": [],
   "source": []
  }
 ],
 "metadata": {
  "kernelspec": {
   "display_name": "Python 3",
   "language": "python",
   "name": "python3"
  },
  "language_info": {
   "codemirror_mode": {
    "name": "ipython",
    "version": 3
   },
   "file_extension": ".py",
   "mimetype": "text/x-python",
   "name": "python",
   "nbconvert_exporter": "python",
   "pygments_lexer": "ipython3",
   "version": "3.6.1"
  }
 },
 "nbformat": 4,
 "nbformat_minor": 2
}
