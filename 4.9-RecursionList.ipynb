{
 "cells": [
  {
   "cell_type": "markdown",
   "metadata": {},
   "source": [
    "## Recursion on a Single List"
   ]
  },
  {
   "cell_type": "code",
   "execution_count": 11,
   "metadata": {
    "collapsed": true
   },
   "outputs": [],
   "source": [
    "# head recursion\n",
    "def reverse(myList):\n",
    "    if len(myList)==1:\n",
    "        return myList\n",
    "    return reverse(myList[1:])+[myList[0]]"
   ]
  },
  {
   "cell_type": "code",
   "execution_count": 12,
   "metadata": {},
   "outputs": [
    {
     "data": {
      "text/plain": [
       "[5, 4, 3, 2, 1]"
      ]
     },
     "execution_count": 12,
     "metadata": {},
     "output_type": "execute_result"
    }
   ],
   "source": [
    "reverse([1,2,3,4,5])"
   ]
  },
  {
   "cell_type": "code",
   "execution_count": 38,
   "metadata": {
    "collapsed": true
   },
   "outputs": [],
   "source": [
    "# tail recursion\n",
    "def optimisedReverse(myList):\n",
    "    def result(res, workingList):\n",
    "        if len(workingList)==1:\n",
    "            return [workingList[0]]+res\n",
    "        return result([workingList[0]]+res,workingList[1:])\n",
    "    return result([],myList)    "
   ]
  },
  {
   "cell_type": "code",
   "execution_count": 39,
   "metadata": {},
   "outputs": [
    {
     "data": {
      "text/plain": [
       "[5, 4, 3, 2, 1]"
      ]
     },
     "execution_count": 39,
     "metadata": {},
     "output_type": "execute_result"
    }
   ],
   "source": [
    "optimisedReverse([1,2,3,4,5])"
   ]
  },
  {
   "cell_type": "markdown",
   "metadata": {},
   "source": [
    "## Formally write a function to compute sum of all numbers in a list:\n",
    "#### Sum(c) = c\n",
    "#### Sum(c.L) = c+Sum(L)"
   ]
  },
  {
   "cell_type": "code",
   "execution_count": 40,
   "metadata": {
    "collapsed": true
   },
   "outputs": [],
   "source": [
    "def optimisedSum(myList):\n",
    "    def acc(result, myList):\n",
    "        if len(myList)==1:\n",
    "            return result+myList[0]\n",
    "        return acc(result+myList[0], myList[1:])\n",
    "    return acc(0,myList)"
   ]
  },
  {
   "cell_type": "code",
   "execution_count": 41,
   "metadata": {},
   "outputs": [
    {
     "data": {
      "text/plain": [
       "15"
      ]
     },
     "execution_count": 41,
     "metadata": {},
     "output_type": "execute_result"
    }
   ],
   "source": [
    "optimisedSum([1,2,3,4,5])"
   ]
  },
  {
   "cell_type": "markdown",
   "metadata": {},
   "source": [
    "## Formally write the function to find the largest from a list\n",
    "#### Largest(c) = c\n",
    "#### if c1 > c2, Largest(c1.c2.L) = Largest(c1,L)\n",
    "#### if c1 < c2, Largest(c1.c2.L) = Largest(c2,L)"
   ]
  },
  {
   "cell_type": "code",
   "execution_count": 48,
   "metadata": {
    "collapsed": true
   },
   "outputs": [],
   "source": [
    "def optimisedLargest(myList):\n",
    "    def acc(workingList):\n",
    "        if len(workingList)==1:\n",
    "            return workingList[0]\n",
    "        if workingList[0]>workingList[1]:\n",
    "            return acc([workingList[0]]+workingList[2:])\n",
    "        return acc(workingList[1:])\n",
    "    return acc(myList)"
   ]
  },
  {
   "cell_type": "code",
   "execution_count": 49,
   "metadata": {},
   "outputs": [
    {
     "data": {
      "text/plain": [
       "5"
      ]
     },
     "execution_count": 49,
     "metadata": {},
     "output_type": "execute_result"
    }
   ],
   "source": [
    "optimisedLargest([1,2,5,4,3])"
   ]
  },
  {
   "cell_type": "code",
   "execution_count": 50,
   "metadata": {},
   "outputs": [
    {
     "data": {
      "text/plain": [
       "9"
      ]
     },
     "execution_count": 50,
     "metadata": {},
     "output_type": "execute_result"
    }
   ],
   "source": [
    "optimisedLargest([1,2,5,4,3,9])"
   ]
  },
  {
   "cell_type": "markdown",
   "metadata": {},
   "source": [
    "### HomeWork: 5 questions to solve"
   ]
  },
  {
   "cell_type": "code",
   "execution_count": 18,
   "metadata": {
    "collapsed": true
   },
   "outputs": [],
   "source": [
    "# Q1. WAF shutters which doubles each element of the list\n",
    "#     doubles(c)   = c.c\n",
    "#     doubles(c.L) = c.c.doubles(L)\n",
    "\n",
    "def shutters(myList):\n",
    "    def acc(newList,workingList):\n",
    "        if len(workingList)==1:\n",
    "            return newList+[workingList[0]]+[workingList[0]]\n",
    "        return acc(newList+[workingList[0]]+[workingList[0]], workingList[1:])\n",
    "    return acc([],myList)"
   ]
  },
  {
   "cell_type": "code",
   "execution_count": 55,
   "metadata": {},
   "outputs": [
    {
     "data": {
      "text/plain": [
       "[1, 1, 2, 2, 3, 3, 4, 4, 5, 5]"
      ]
     },
     "execution_count": 55,
     "metadata": {},
     "output_type": "execute_result"
    }
   ],
   "source": [
    "shutters([1,2,3,4,5])"
   ]
  },
  {
   "cell_type": "code",
   "execution_count": 19,
   "metadata": {},
   "outputs": [
    {
     "data": {
      "text/plain": [
       "['a', 'a', 'b', 'b', 1, 1]"
      ]
     },
     "execution_count": 19,
     "metadata": {},
     "output_type": "execute_result"
    }
   ],
   "source": [
    "shutters(['a','b',1])"
   ]
  },
  {
   "cell_type": "code",
   "execution_count": 15,
   "metadata": {
    "collapsed": true
   },
   "outputs": [],
   "source": [
    "# Q2. WAF removes which takes 2 args: a list and an element. It removes all occurences of the element\n",
    "#     from the list.\n",
    "\n",
    "# if L is empty; removes(L)=EmptySet\n",
    "# if x not equal to c1; removes(x,c1.L)=c1.removes(L)\n",
    "# if x==c1; removes(x,c1.L)=removes(L) \n",
    "\n",
    "def removes(x,myList):\n",
    "    if len(myList)==0:\n",
    "        return myList\n",
    "    if x==myList[0]:\n",
    "        return removes(x,myList[1:])\n",
    "    return [myList[0]]+removes(x,myList[1:])"
   ]
  },
  {
   "cell_type": "code",
   "execution_count": 16,
   "metadata": {},
   "outputs": [
    {
     "data": {
      "text/plain": [
       "[1, 3, 4, 5]"
      ]
     },
     "execution_count": 16,
     "metadata": {},
     "output_type": "execute_result"
    }
   ],
   "source": [
    "removes(2,[1,2,3,4,5])"
   ]
  },
  {
   "cell_type": "code",
   "execution_count": 17,
   "metadata": {},
   "outputs": [
    {
     "data": {
      "text/plain": [
       "[1, 3, 4, 5]"
      ]
     },
     "execution_count": 17,
     "metadata": {},
     "output_type": "execute_result"
    }
   ],
   "source": [
    "removes(2,[1,2,3,4,5,2])"
   ]
  },
  {
   "cell_type": "code",
   "execution_count": 20,
   "metadata": {},
   "outputs": [
    {
     "data": {
      "text/plain": [
       "[1, 3, 1]"
      ]
     },
     "execution_count": 20,
     "metadata": {},
     "output_type": "execute_result"
    }
   ],
   "source": [
    "removes(0,[1,3,0,1,0])"
   ]
  },
  {
   "cell_type": "code",
   "execution_count": 21,
   "metadata": {
    "collapsed": true
   },
   "outputs": [],
   "source": [
    "# WAF removes that only removes the first occurene of the element\n",
    "\n",
    "# if L=emptyList; removes(x,L)=EmptyList\n",
    "# if x==c1; removes(x,c1.L)=L\n",
    "# if x!=c1; removes(x,c1.L)=c1.removes(x,L)\n",
    "\n",
    "def removes(x,myList):\n",
    "    def acc(newList,workingList):\n",
    "        if len(workingList)==0:\n",
    "            return newList\n",
    "        if x==workingList[0]:\n",
    "            return newList+workingList[1:]\n",
    "        return acc(newList+[workingList[0]], workingList[1:])\n",
    "    return acc([],myList)"
   ]
  },
  {
   "cell_type": "code",
   "execution_count": 22,
   "metadata": {},
   "outputs": [
    {
     "data": {
      "text/plain": [
       "[1, 2, 3, 1, 0]"
      ]
     },
     "execution_count": 22,
     "metadata": {},
     "output_type": "execute_result"
    }
   ],
   "source": [
    "removes(0,[1,2,3,0,1,0])"
   ]
  },
  {
   "cell_type": "code",
   "execution_count": 25,
   "metadata": {
    "collapsed": true
   },
   "outputs": [],
   "source": [
    "# WAF removes which takes a third argument->a number k; removes the first k occurences of the element\n",
    "\n",
    "# if L is empty; removes(x,L,k)=EmptyList\n",
    "# if x==c1;removes(x,c1.L,k)=removes(x,L,k-1), till k==0\n",
    "# if x!=c1;removes(x,c1.L,k)=c1.removes(x,L,k)\n",
    "\n",
    "def removes(x, myList, k):\n",
    "    if len(myList)==0 or k==0:\n",
    "        return myList\n",
    "    if x==myList[0]:\n",
    "        return removes(x,myList[1:],k-1)\n",
    "    return [myList[0]]+removes(x,myList[1:],k)"
   ]
  },
  {
   "cell_type": "code",
   "execution_count": 26,
   "metadata": {},
   "outputs": [
    {
     "data": {
      "text/plain": [
       "[1, 2, 3, 1, 0]"
      ]
     },
     "execution_count": 26,
     "metadata": {},
     "output_type": "execute_result"
    }
   ],
   "source": [
    "removes(0,[1,2,3,0,1,0],1)"
   ]
  },
  {
   "cell_type": "code",
   "execution_count": 27,
   "metadata": {},
   "outputs": [
    {
     "data": {
      "text/plain": [
       "[1, 2, 3, 1]"
      ]
     },
     "execution_count": 27,
     "metadata": {},
     "output_type": "execute_result"
    }
   ],
   "source": [
    "removes(0,[1,2,3,0,1,0],2)"
   ]
  },
  {
   "cell_type": "code",
   "execution_count": 28,
   "metadata": {},
   "outputs": [
    {
     "data": {
      "text/plain": [
       "[1, 2, 3, 1]"
      ]
     },
     "execution_count": 28,
     "metadata": {},
     "output_type": "execute_result"
    }
   ],
   "source": [
    "removes(0,[1,2,3,0,1,0],3)"
   ]
  },
  {
   "cell_type": "code",
   "execution_count": 1,
   "metadata": {
    "collapsed": true
   },
   "outputs": [],
   "source": [
    "# WAF which takes three arguments: a list, elements x and y. It replaces all occurences of x by y.\n",
    "# How would you optimise your function if the list was sorted?\n",
    "\n",
    "# replace(x.L,x,y)=y.replace(L,x,y)\n",
    "# replace(c.L,x,y)=c.replace(L,x,y)\n",
    "# if L is empty;replace(L,x,y)= EmptyList\n",
    "\n",
    "def replace(myList,x,y):\n",
    "    def acc(newList, workingList):\n",
    "        if len(workingList)==0:\n",
    "            return newList\n",
    "        if workingList[0]==x:\n",
    "            return acc(newList+[y],workingList[1:])\n",
    "        return acc(newList+[workingList[0]],workingList[1:])\n",
    "    return acc([],myList)\n"
   ]
  },
  {
   "cell_type": "code",
   "execution_count": 2,
   "metadata": {},
   "outputs": [
    {
     "data": {
      "text/plain": [
       "[1, 2, 9, 6, 4, 5, 2, 9, 6]"
      ]
     },
     "execution_count": 2,
     "metadata": {},
     "output_type": "execute_result"
    }
   ],
   "source": [
    "replace([1,2,3,6,4,5,2,3,6],3,9)"
   ]
  },
  {
   "cell_type": "code",
   "execution_count": 3,
   "metadata": {},
   "outputs": [
    {
     "data": {
      "text/plain": [
       "[1, 2, 3, 6, 4, 5, 2, 3, 6]"
      ]
     },
     "execution_count": 3,
     "metadata": {},
     "output_type": "execute_result"
    }
   ],
   "source": [
    "replace([1,2,3,6,4,5,2,3,6],9,9)"
   ]
  },
  {
   "cell_type": "code",
   "execution_count": 27,
   "metadata": {
    "collapsed": true
   },
   "outputs": [],
   "source": [
    "# how to optimise the replace if the list was sorted\n",
    "def optimisedReplace(myList,x,y):\n",
    "    def acc(newList, workingList,flag=0):\n",
    "        if len(workingList)==0:\n",
    "            return newList\n",
    "        if workingList[0]==x:\n",
    "            return acc(newList+[y],workingList[1:],1)\n",
    "        if flag==1:\n",
    "            return newList+workingList\n",
    "        return acc(newList+[workingList[0]],workingList[1:])\n",
    "    return acc([],myList)"
   ]
  },
  {
   "cell_type": "code",
   "execution_count": 28,
   "metadata": {},
   "outputs": [
    {
     "data": {
      "text/plain": [
       "[1, 2, 3, 4, 4, 4, 5, 6, 7, 8, 9]"
      ]
     },
     "execution_count": 28,
     "metadata": {},
     "output_type": "execute_result"
    }
   ],
   "source": [
    "optimisedReplace([1,2,3,4,4,4,5,6,7,8,9],10,0)"
   ]
  },
  {
   "cell_type": "code",
   "execution_count": 17,
   "metadata": {},
   "outputs": [],
   "source": [
    "def binarySearch(myList, target, start, end):\n",
    "    print(start,end)\n",
    "    if start>end or target<myList[start] or target>myList[end]:\n",
    "        return -1\n",
    "    if target==myList[(start+end)//2]:\n",
    "        return (start+end)//2\n",
    "    if target<myList[(start+end)//2]:\n",
    "        return binarySearch(myList, target, start, ((start+end)//2)-1)\n",
    "    return binarySearch(myList, target, ((start+end)//2)+1, end)\n",
    "        "
   ]
  },
  {
   "cell_type": "code",
   "execution_count": 18,
   "metadata": {},
   "outputs": [
    {
     "name": "stdout",
     "output_type": "stream",
     "text": [
      "0 11\n",
      "6 11\n"
     ]
    },
    {
     "data": {
      "text/plain": [
       "8"
      ]
     },
     "execution_count": 18,
     "metadata": {},
     "output_type": "execute_result"
    }
   ],
   "source": [
    "binarySearch([1,2,3,4,5,6,7,7,7,7,8,9],7,0,11)"
   ]
  },
  {
   "cell_type": "code",
   "execution_count": null,
   "metadata": {
    "collapsed": true
   },
   "outputs": [],
   "source": []
  }
 ],
 "metadata": {
  "kernelspec": {
   "display_name": "Python 3",
   "language": "python",
   "name": "python3"
  },
  "language_info": {
   "codemirror_mode": {
    "name": "ipython",
    "version": 3
   },
   "file_extension": ".py",
   "mimetype": "text/x-python",
   "name": "python",
   "nbconvert_exporter": "python",
   "pygments_lexer": "ipython3",
   "version": "3.6.1"
  }
 },
 "nbformat": 4,
 "nbformat_minor": 2
}
