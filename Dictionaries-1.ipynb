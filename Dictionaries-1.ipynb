{
 "cells": [
  {
   "cell_type": "markdown",
   "metadata": {},
   "source": [
    "# Dictionaries"
   ]
  },
  {
   "cell_type": "markdown",
   "metadata": {},
   "source": [
    "### Rule for the Abstract Data Structure defined:"
   ]
  },
  {
   "cell_type": "markdown",
   "metadata": {},
   "source": [
    "Associative array of keys and values.\n",
    "It's a set of keys associated with values. Need to have both.\n",
    "We pick the indices.\n",
    "It is not ordered. Not meant for sorting. If we sort then we need to keep the result in something other than dictionary.\n",
    "Entry point has to be key.\n",
    "Value cannot be deleted alone. As entry point is the key."
   ]
  },
  {
   "cell_type": "markdown",
   "metadata": {},
   "source": [
    "Checking if a value exists is very costly-> O(n). It is optimised for other queries."
   ]
  },
  {
   "cell_type": "code",
   "execution_count": 1,
   "metadata": {},
   "outputs": [
    {
     "name": "stdout",
     "output_type": "stream",
     "text": [
      "{'z1816768': 4.0, 'z159605': 2.9}\n"
     ]
    }
   ],
   "source": [
    "students = {}\n",
    "students[\"z1816768\"] = 4.0\n",
    "students[\"z159605\"] = 2.9\n",
    "print(students)"
   ]
  },
  {
   "cell_type": "code",
   "execution_count": 2,
   "metadata": {},
   "outputs": [
    {
     "name": "stdout",
     "output_type": "stream",
     "text": [
      "{'z1816767': 3.0, 'z1816765': 2.8}\n"
     ]
    }
   ],
   "source": [
    "students = {\"z1816767\": 3.0, \"z1816765\": 2.8}\n",
    "print(students)"
   ]
  },
  {
   "cell_type": "code",
   "execution_count": 5,
   "metadata": {},
   "outputs": [
    {
     "data": {
      "text/plain": [
       "False"
      ]
     },
     "execution_count": 5,
     "metadata": {},
     "output_type": "execute_result"
    }
   ],
   "source": [
    "\"z18167768\" in students"
   ]
  },
  {
   "cell_type": "code",
   "execution_count": 3,
   "metadata": {
    "collapsed": true
   },
   "outputs": [],
   "source": [
    "def showStudents():\n",
    "    print(students.keys())"
   ]
  },
  {
   "cell_type": "code",
   "execution_count": 7,
   "metadata": {},
   "outputs": [
    {
     "name": "stdout",
     "output_type": "stream",
     "text": [
      "dict_keys(['z1816768', 'z159605'])\n"
     ]
    }
   ],
   "source": [
    "showStudents()"
   ]
  },
  {
   "cell_type": "code",
   "execution_count": 4,
   "metadata": {
    "collapsed": true
   },
   "outputs": [],
   "source": [
    "#boosts all grades by x%, e.g. 50% curving\n",
    "def curving(x):\n",
    "    print(students)\n",
    "    for key in students:\n",
    "        students[key] += x/100\n",
    "    print(students)"
   ]
  },
  {
   "cell_type": "code",
   "execution_count": 12,
   "metadata": {},
   "outputs": [
    {
     "name": "stdout",
     "output_type": "stream",
     "text": [
      "{'z1816767': 3.0, 'z1816765': 2.8}\n",
      "{'z1816767': 3.5, 'z1816765': 3.3}\n"
     ]
    }
   ],
   "source": [
    "curving(50)"
   ]
  },
  {
   "cell_type": "code",
   "execution_count": 10,
   "metadata": {
    "collapsed": true
   },
   "outputs": [],
   "source": [
    "#returns a list of students whose grade > one given as argument\n",
    "def whoHasMoreThan(grade):\n",
    "    list=[]\n",
    "    for key in students:\n",
    "        if(students[key] > grade):\n",
    "            list.append(key)\n",
    "    return list"
   ]
  },
  {
   "cell_type": "code",
   "execution_count": 11,
   "metadata": {},
   "outputs": [
    {
     "name": "stdout",
     "output_type": "stream",
     "text": [
      "Students who have greater than 2.0: ['z1816767', 'z1816765']\n"
     ]
    }
   ],
   "source": [
    "print(\"Students who have greater than 2.0:\", whoHasMoreThan(2.0))"
   ]
  },
  {
   "cell_type": "code",
   "execution_count": 12,
   "metadata": {
    "collapsed": true
   },
   "outputs": [],
   "source": [
    "#how many student have the grade\n",
    "def howManyHaveMoreThan(grade):\n",
    "    return len(whoHasMoreThan(grade))"
   ]
  },
  {
   "cell_type": "code",
   "execution_count": 13,
   "metadata": {},
   "outputs": [
    {
     "name": "stdout",
     "output_type": "stream",
     "text": [
      "2 : students have grade higher than 2.0\n"
     ]
    }
   ],
   "source": [
    "print(howManyHaveMoreThan(2.0),\": students have grade higher than 2.0\")"
   ]
  },
  {
   "cell_type": "code",
   "execution_count": 14,
   "metadata": {
    "collapsed": true
   },
   "outputs": [],
   "source": [
    "#how many student have the grade without using whoHasMoreThan(grade)\n",
    "def howManyHaveMoreThan(grade):\n",
    "    count = 0\n",
    "    for key in students:\n",
    "        if(students[key] > grade):\n",
    "            count+=1\n",
    "    return count"
   ]
  },
  {
   "cell_type": "code",
   "execution_count": 15,
   "metadata": {},
   "outputs": [
    {
     "name": "stdout",
     "output_type": "stream",
     "text": [
      "2 : students have grade higher than 2.0\n"
     ]
    }
   ],
   "source": [
    "print(howManyHaveMoreThan(2.0),\": students have grade higher than 2.0\")"
   ]
  },
  {
   "cell_type": "markdown",
   "metadata": {},
   "source": [
    "## Dictionary of Dictionary"
   ]
  },
  {
   "cell_type": "code",
   "execution_count": 38,
   "metadata": {
    "collapsed": true
   },
   "outputs": [],
   "source": [
    "#whose average GPA is larger than the function's argument\n",
    "students={\n",
    "    \"z1716768\":{\n",
    "        \"330\":4.0,\n",
    "        \"490\":3.8\n",
    "    },\n",
    "    \"z198742\":{\n",
    "        \"680\":3.1,\n",
    "        \"690\":3.5,\n",
    "        \"510\":2.5\n",
    "    }\n",
    "    }\n",
    "def whoHasMoreThan(GPA):\n",
    "    my_list = []\n",
    "    for student in students:\n",
    "        avg = 0\n",
    "        count = 0\n",
    "        for course in students[student]:\n",
    "            avg += students[student][course]\n",
    "            count += 1\n",
    "        avg /= count\n",
    "        if avg>GPA:\n",
    "            my_list.append(student)\n",
    "    return my_list\n",
    "        \n"
   ]
  },
  {
   "cell_type": "code",
   "execution_count": 37,
   "metadata": {},
   "outputs": [
    {
     "name": "stdout",
     "output_type": "stream",
     "text": [
      "z1716768\n",
      "z198742\n",
      "['z1716768', 'z198742']\n"
     ]
    }
   ],
   "source": [
    "print(whoHasMoreThan(3.0))"
   ]
  },
  {
   "cell_type": "code",
   "execution_count": 45,
   "metadata": {
    "collapsed": true
   },
   "outputs": [],
   "source": [
    "#shortening it\n",
    "def whoHasMoreThan(GPA):\n",
    "    my_list = []\n",
    "    for student in students:\n",
    "        if (sum(students[student].values())/len(students[student].values()))>GPA:\n",
    "                my_list.append(student)\n",
    "    return my_list"
   ]
  },
  {
   "cell_type": "code",
   "execution_count": 46,
   "metadata": {},
   "outputs": [
    {
     "name": "stdout",
     "output_type": "stream",
     "text": [
      "['z1716768', 'z198742']\n"
     ]
    }
   ],
   "source": [
    "print(whoHasMoreThan(3.0))"
   ]
  },
  {
   "cell_type": "code",
   "execution_count": null,
   "metadata": {
    "collapsed": true
   },
   "outputs": [],
   "source": []
  }
 ],
 "metadata": {
  "kernelspec": {
   "display_name": "Python 3",
   "language": "python",
   "name": "python3"
  },
  "language_info": {
   "codemirror_mode": {
    "name": "ipython",
    "version": 3
   },
   "file_extension": ".py",
   "mimetype": "text/x-python",
   "name": "python",
   "nbconvert_exporter": "python",
   "pygments_lexer": "ipython3",
   "version": "3.6.1"
  }
 },
 "nbformat": 4,
 "nbformat_minor": 2
}
