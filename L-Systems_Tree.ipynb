{
 "cells": [
  {
   "cell_type": "markdown",
   "metadata": {},
   "source": [
    "# L-Systems_Tree"
   ]
  },
  {
   "cell_type": "markdown",
   "metadata": {},
   "source": [
    "### The Algorithmic Beauty of Plants is available at http://algorithmicbotany.org/papers/"
   ]
  },
  {
   "cell_type": "markdown",
   "metadata": {},
   "source": [
    "## Empowering turtle:"
   ]
  },
  {
   "cell_type": "code",
   "execution_count": 1,
   "metadata": {
    "collapsed": true
   },
   "outputs": [],
   "source": [
    "import turtle\n",
    "\n",
    "# specifying movements:\n",
    "move  = 15\n",
    "angle = 90\n",
    "turtle_direction = []\n",
    "turtle_position  = []\n",
    "\n",
    "def turtle_Move(m = 15):\n",
    "    global move\n",
    "    move = m\n",
    "    return\n",
    "\n",
    "def turtle_Angle(a = 90):\n",
    "    global angle\n",
    "    angle = a\n",
    "    return\n",
    "\n",
    "def turtle_penup():\n",
    "    turtle.penup()\n",
    "    return\n",
    "\n",
    "def turtle_pendown():\n",
    "    turtle.pendown()\n",
    "    return\n",
    "\n",
    "# setting the initial position and direction:\n",
    "def turtle_Set_Initial(x, y, t_dir):\n",
    "    turtle.setx(x)\n",
    "    turtle.sety(y)\n",
    "    turtle.setheading(90)\n",
    "    return\n",
    "\n",
    "def turtle_Speed(s):\n",
    "    turtle.speed(s)\n",
    "    return\n",
    "\n",
    "# processing letter:\n",
    "def turtle_Letter(letter):\n",
    "    if letter == 'F' or letter == 'A' or letter == 'B' or letter == 'X':\n",
    "        turtle.forward(move)\n",
    "    elif letter == '-':\n",
    "        turtle.right(angle)\n",
    "    elif letter == '+':\n",
    "        turtle.left(angle)\n",
    "    elif letter == '[':\n",
    "        # remembering the current direction and position by adding them to list as Stack\n",
    "        turtle_direction.append(turtle.heading())\n",
    "        turtle_position.append(turtle.pos())\n",
    "    elif letter == ']':\n",
    "        # going back to the previous direction at the previous position and removing them\n",
    "        turtle.penup()\n",
    "        turtle.setheading(turtle_direction.pop()) \n",
    "        turtle.setposition(turtle_position.pop())\n",
    "        turtle.pendown()\n",
    "    return\n",
    "\n",
    "# processing sentence:\n",
    "def turtle_Speak(sentence):\n",
    "    for char in sentence:\n",
    "        turtle_Letter(char)\n",
    "    return"
   ]
  },
  {
   "cell_type": "markdown",
   "metadata": {},
   "source": [
    "### Practice Question 20:\n",
    "Change the angle to 30. Write a function plantGrowth that turns F into F[-F]F[+F][F]"
   ]
  },
  {
   "cell_type": "code",
   "execution_count": 2,
   "metadata": {
    "collapsed": true
   },
   "outputs": [],
   "source": [
    "# applying a loop by using another variable \"years\" instead of writing it again & again at the time\n",
    "# of execution.\n",
    "import re\n",
    "def plant_Growth(seed, years):\n",
    "    while years > 0:\n",
    "        L2 = []\n",
    "        for element in seed:\n",
    "            if re.match('[A-Z]', element):\n",
    "                L2 += applyRule(element)\n",
    "            else:\n",
    "                L2.append(element)\n",
    "        years -= 1\n",
    "        seed = L2\n",
    "    return L2 #as seed keeps growing over years and has the fully grown list at \"n\" years."
   ]
  },
  {
   "cell_type": "markdown",
   "metadata": {},
   "source": [
    "#### So, for applying new rule just update the applyRule() below(only the list part):"
   ]
  },
  {
   "cell_type": "code",
   "execution_count": 3,
   "metadata": {},
   "outputs": [],
   "source": [
    "def applyRule(element):\n",
    "    # EDGE Re-Writing:\n",
    "    #1>turns F into F[-F]F[+F][F] same as PQ 30\n",
    "    #return ['F','[','-','F',']','F','[','+','F',']','[','F',']']\n",
    "    #2>move=5,angle=25.7,F;F->F[+F]F[-F]F\n",
    "    #return ['F','[','+','F',']','F','[','-','F',']','F']\n",
    "    # NODE Re-writiing: \n",
    "    #3>move=7,angle=20,seed:X,rule: X->F[+X]F[-X]+X; F->FF\n",
    "    if element == 'X':\n",
    "        return ['F','[','+','X',']','F','[','-','X',']','+','X']\n",
    "    else:\n",
    "        return ['F','F'] \n",
    "    #for flower\n",
    "        "
   ]
  },
  {
   "cell_type": "markdown",
   "metadata": {},
   "source": [
    "### bracketed OL-systems:"
   ]
  },
  {
   "cell_type": "markdown",
   "metadata": {},
   "source": [
    "#### edge-rewriting:"
   ]
  },
  {
   "cell_type": "code",
   "execution_count": 19,
   "metadata": {
    "collapsed": true
   },
   "outputs": [],
   "source": [
    "#1>\n",
    "turtle_Angle(30)\n",
    "turtle_Speed(200)\n",
    "turtle_Set_Initial(0,-150,90)\n",
    "turtle_Speak(plant_Growth(['F'],4))\n",
    "turtle.done()"
   ]
  },
  {
   "cell_type": "code",
   "execution_count": 9,
   "metadata": {
    "collapsed": true
   },
   "outputs": [],
   "source": [
    "#2>move=5,angle=25.7,F;F->F[+F]F[-F]F\n",
    "turtle_Move(5)\n",
    "turtle_Angle(25.7)\n",
    "turtle_Set_Initial(0,-150,90)\n",
    "turtle_Speed(400)\n",
    "turtle_Speak(plant_Growth(['F'], 4))\n",
    "turtle.done()"
   ]
  },
  {
   "cell_type": "markdown",
   "metadata": {},
   "source": [
    "#### node rewriting:"
   ]
  },
  {
   "cell_type": "code",
   "execution_count": 4,
   "metadata": {
    "collapsed": true
   },
   "outputs": [],
   "source": [
    "#3>move=7,angle=20,seed:X,rule: X->F[+X]F[-X]+X; F->FF\n",
    "turtle_Move(7)\n",
    "turtle_Angle(20)\n",
    "turtle_penup()\n",
    "turtle_Set_Initial(0,-150,90)\n",
    "turtle_pendown()\n",
    "turtle_Speed(400)\n",
    "turtle_Speak(plant_Growth(['X'], 5))\n",
    "turtle.done()"
   ]
  },
  {
   "cell_type": "code",
   "execution_count": null,
   "metadata": {
    "collapsed": true
   },
   "outputs": [],
   "source": [
    "def draw_flower(size, petals, flower_size):\n",
    "    heading = turtle.heading()\n",
    "    turtle.circle(size, 60)\n",
    "    turtle.left(120)\n",
    "    turtl"
   ]
  }
 ],
 "metadata": {
  "kernelspec": {
   "display_name": "Python 3",
   "language": "python",
   "name": "python3"
  },
  "language_info": {
   "codemirror_mode": {
    "name": "ipython",
    "version": 3
   },
   "file_extension": ".py",
   "mimetype": "text/x-python",
   "name": "python",
   "nbconvert_exporter": "python",
   "pygments_lexer": "ipython3",
   "version": "3.6.1"
  }
 },
 "nbformat": 4,
 "nbformat_minor": 2
}
