{
 "cells": [
  {
   "cell_type": "markdown",
   "metadata": {},
   "source": [
    "## Von Koch fractal"
   ]
  },
  {
   "cell_type": "code",
   "execution_count": 2,
   "metadata": {
    "collapsed": true
   },
   "outputs": [],
   "source": [
    "import turtle\n",
    "def Koch(length, level):\n",
    "    if level==1:\n",
    "        turtle.forward(length)\n",
    "    else:\n",
    "        Koch(length/3,level-1)\n",
    "        turtle.left(60)\n",
    "        Koch(length/3,level-1)\n",
    "        turtle.right(120)\n",
    "        Koch(length/3,level-1)\n",
    "        turtle.left(60)\n",
    "        Koch(length/3,level-1)"
   ]
  },
  {
   "cell_type": "code",
   "execution_count": 3,
   "metadata": {},
   "outputs": [],
   "source": [
    "Koch(300,4)\n",
    "turtle.done()"
   ]
  },
  {
   "cell_type": "markdown",
   "metadata": {},
   "source": [
    "## The Koch Snowflake\n",
    "is made by adding a Koch Curve to each side of a triangle"
   ]
  },
  {
   "cell_type": "code",
   "execution_count": 24,
   "metadata": {
    "collapsed": true
   },
   "outputs": [],
   "source": [
    "#snowFlake\n",
    "def KochSnowFlake(length, level):\n",
    "    #Koch(length, level)\n",
    "    #turtle.right(120)\n",
    "    #och(length, level)\n",
    "    #turtle.right(120)\n",
    "    #Koch(length, level)\n",
    "    def repeat(times):\n",
    "        if times>0:\n",
    "            Koch(length, level)\n",
    "            turtle.right(120)\n",
    "            return repeat(times-1)\n",
    "        return\n",
    "    return repeat(level)    "
   ]
  },
  {
   "cell_type": "code",
   "execution_count": 28,
   "metadata": {},
   "outputs": [],
   "source": [
    "turtle.speed(1000)\n",
    "KochSnowFlake(300,6)\n",
    "turtle.done()"
   ]
  },
  {
   "cell_type": "markdown",
   "metadata": {},
   "source": [
    "## The Koch Anti-Snowflake\n",
    "is obtained by getting the curve inside the triangle instead of using three initial edges.\n",
    "\n",
    "1. Start with a large equilateral triangle. If you use the triangle grid paper, make the sides of your triangle 9 grid triangles long (or some other multiple of 3). \n",
    "\n",
    "2. Make a pinwheel: \n",
    "\n",
    "    Divide one side of the triangle into three parts and remove the middle section. \n",
    "\n",
    "    Replace it with two lines the same length as the section you removed, just like in the Koch Snowflake. But this time, instead of turning the section out to form a snowflake, turn them inside the triangle \n",
    "\n",
    "    Do this to all three sides of the triangle. \n",
    "    \n",
    "3. Repeat the process with the \"triangles\" inside the pinwheel."
   ]
  },
  {
   "cell_type": "code",
   "execution_count": 41,
   "metadata": {
    "collapsed": true
   },
   "outputs": [],
   "source": [
    "import turtle\n",
    "def AntiKoch(length,level):\n",
    "    if level==1:\n",
    "        turtle.forward(length)\n",
    "        return\n",
    "    AntiKoch(length/3,level-1)\n",
    "    turtle.right(60)\n",
    "    AntiKoch(length/3,level-1)\n",
    "    turtle.left(120)\n",
    "    AntiKoch(length/3,level-1)\n",
    "    turtle.right(60)\n",
    "    AntiKoch(length/3,level-1)\n",
    "    return \n",
    "        "
   ]
  },
  {
   "cell_type": "code",
   "execution_count": 54,
   "metadata": {
    "collapsed": true
   },
   "outputs": [],
   "source": [
    "def AntiKochSnowFlake(length,level):\n",
    "    def repeat(times):\n",
    "        if times>0:\n",
    "            AntiKoch(length,level)\n",
    "            turtle.right(120)\n",
    "            return repeat(times-1)\n",
    "        return\n",
    "    return repeat(level)"
   ]
  },
  {
   "cell_type": "code",
   "execution_count": 57,
   "metadata": {},
   "outputs": [],
   "source": [
    "turtle.speed(3000)\n",
    "AntiKochSnowFlake(300,6)\n",
    "turtle.done()"
   ]
  }
 ],
 "metadata": {
  "kernelspec": {
   "display_name": "Python 3",
   "language": "python",
   "name": "python3"
  },
  "language_info": {
   "codemirror_mode": {
    "name": "ipython",
    "version": 3
   },
   "file_extension": ".py",
   "mimetype": "text/x-python",
   "name": "python",
   "nbconvert_exporter": "python",
   "pygments_lexer": "ipython3",
   "version": "3.6.1"
  }
 },
 "nbformat": 4,
 "nbformat_minor": 2
}
