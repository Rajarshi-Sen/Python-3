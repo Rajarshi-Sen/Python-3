{
 "cells": [
  {
   "cell_type": "markdown",
   "metadata": {},
   "source": [
    "## In the \"Christmas Carol\" show who Scrooge hangs out with and how many times? => ___ and Scrooge or Scrooge and ____"
   ]
  },
  {
   "cell_type": "code",
   "execution_count": 2,
   "metadata": {},
   "outputs": [
    {
     "name": "stdout",
     "output_type": "stream",
     "text": [
      "D:\\NIU\\Course Details\\Fall-17\\Python\\2-Imperative Programming\n"
     ]
    }
   ],
   "source": [
    "cd \"D:\\NIU\\Course Details\\Fall-17\\Python\\2-Imperative Programming\""
   ]
  },
  {
   "cell_type": "code",
   "execution_count": 47,
   "metadata": {
    "collapsed": true
   },
   "outputs": [],
   "source": [
    "import re\n",
    "def readFile(fileName):\n",
    "    fin = open(fileName)\n",
    "    myDict = {}\n",
    "    for line in fin:\n",
    "        process(line, myDict)\n",
    "    print(myDict)        \n",
    "    fin.close()\n",
    "    return\n",
    "\n",
    "def process(line, myDict):\n",
    "    line.strip('\\n')\n",
    "    \n",
    "    lookForText  = re.search('.*Scrooge\\s*and\\s*([A-Z]+[A-Za-z]*).*',line)\n",
    "    lookForText2 = re.search('.*([A-Z]+[A-Za-z]*)\\s*and\\s*Scrooge.*',line)\n",
    "    if lookForText:\n",
    "        if lookForText.group(1) in myDict:\n",
    "            #print(line)\n",
    "            myDict[lookForText.group(1)] += 1\n",
    "            #print(myDict)\n",
    "            continue\n",
    "        else:\n",
    "            #print(line)\n",
    "            myDict[lookForText.group(1)] =  1\n",
    "            #print(myDict)\n",
    "            continue \n",
    "    if lookForText2:\n",
    "        if lookForText2.group(1) in myDict:\n",
    "            #print(line)\n",
    "            myDict[lookForText2.group(1)] += 1\n",
    "            #print(myDict)\n",
    "        else:\n",
    "            #print(line)\n",
    "            myDict[lookForText2.group(1)] =  1\n",
    "            #print(myDict)\n",
    "    return        "
   ]
  },
  {
   "cell_type": "code",
   "execution_count": 48,
   "metadata": {},
   "outputs": [
    {
     "name": "stdout",
     "output_type": "stream",
     "text": [
      "door: Scrooge and Marley. The firm was known as\n",
      "\n",
      "{'Marley': 1}\n",
      "Scrooge and Marley. Sometimes people new to the\n",
      "\n",
      "{'Marley': 2}\n",
      "\"Scrooge and Marley's, I believe,\" said one of the\n",
      "\n",
      "{'Marley': 3}\n",
      "They went, the Ghost and Scrooge, across the hall, to a\n",
      "\n",
      "{'Marley': 3, 'Ghost': 1}\n",
      "in a snug corner, where the Ghost and Scrooge were close\n",
      "\n",
      "{'Marley': 3, 'Ghost': 2}\n",
      "counting-house the day before, and said, \"Scrooge and Marley's, I\n",
      "\n",
      "{'Marley': 4, 'Ghost': 2}\n",
      "{'Marley': 4, 'Ghost': 2}\n"
     ]
    }
   ],
   "source": [
    "readFile(\"5-Christmas Carol.txt\")"
   ]
  },
  {
   "cell_type": "markdown",
   "metadata": {
    "collapsed": true
   },
   "source": [
    "## Basics of NLP: stemming and filtering"
   ]
  },
  {
   "cell_type": "code",
   "execution_count": 8,
   "metadata": {},
   "outputs": [
    {
     "name": "stdout",
     "output_type": "stream",
     "text": [
      "USELESS: ['i', 'me', 'my', 'myself', 'we', 'our', 'ours', 'ourselves', 'you', 'your', 'yours', 'yourself', 'yourselves', 'he', 'him', 'his', 'himself', 'she', 'her', 'hers', 'herself', 'it', 'its', 'itself', 'they', 'them', 'their', 'theirs', 'themselves', 'what', 'which', 'who', 'whom', 'this', 'that', 'these', 'those', 'am', 'is', 'are', 'was', 'were', 'be', 'been', 'being', 'have', 'has', 'had', 'having', 'do', 'does', 'did', 'doing', 'a', 'an', 'the', 'and', 'but', 'if', 'or', 'because', 'as', 'until', 'while', 'of', 'at', 'by', 'for', 'with', 'about', 'against', 'between', 'into', 'through', 'during', 'before', 'after', 'above', 'below', 'to', 'from', 'up', 'down', 'in', 'out', 'on', 'off', 'over', 'under', 'again', 'further', 'then', 'once', 'here', 'there', 'when', 'where', 'why', 'how', 'all', 'any', 'both', 'each', 'few', 'more', 'most', 'other', 'some', 'such', 'no', 'nor', 'not', 'only', 'own', 'same', 'so', 'than', 'too', 'very', 's', 't', 'can', 'will', 'just', 'don', 'should', 'now', 'd', 'll', 'm', 'o', 're', 've', 'y', 'ain', 'aren', 'couldn', 'didn', 'doesn', 'hadn', 'hasn', 'haven', 'isn', 'ma', 'mightn', 'mustn', 'needn', 'shan', 'shouldn', 'wasn', 'weren', 'won', 'wouldn']\n",
      "steal\n",
      "good\n",
      "act\n",
      ".\n",
      "inde\n",
      ",\n",
      "steal\n",
      "count\n",
      "amongst\n",
      "bad\n",
      "act\n",
      ".\n",
      "stole\n",
      "act\n",
      "poor\n",
      ".\n"
     ]
    }
   ],
   "source": [
    "import nltk\n",
    "from nltk import SnowballStemmer #to stem the words\n",
    "# to avoid coutning the useless words such as puntuations\n",
    "from nltk.corpus import stopwords \n",
    "uselessWords = stopwords.words(\"english\")\n",
    "print(\"USELESS:\", uselessWords)\n",
    "\n",
    "sentence = \"Stealing is not a good act. Indeed, to steal counts amongst bad acts. Those who stole acted poorly.\"\n",
    "stemmer  = SnowballStemmer(\"english\")\n",
    "#turning the sentence into tokens\n",
    "tokens   = nltk.word_tokenize(sentence)\n",
    "for token in tokens:\n",
    "    #to get the stem of each token\n",
    "    stem = stemmer.stem(token)\n",
    "    if stem not in uselessWords:\n",
    "        print(stem)\n",
    "    "
   ]
  },
  {
   "cell_type": "markdown",
   "metadata": {},
   "source": [
    "### To run the above code without errors we needed to run the following cell(for the first time only):"
   ]
  },
  {
   "cell_type": "code",
   "execution_count": 5,
   "metadata": {},
   "outputs": [
    {
     "name": "stdout",
     "output_type": "stream",
     "text": [
      "showing info https://raw.githubusercontent.com/nltk/nltk_data/gh-pages/index.xml\n"
     ]
    },
    {
     "data": {
      "text/plain": [
       "True"
      ]
     },
     "execution_count": 5,
     "metadata": {},
     "output_type": "execute_result"
    }
   ],
   "source": [
    "#nltk.download()"
   ]
  },
  {
   "cell_type": "code",
   "execution_count": null,
   "metadata": {
    "collapsed": true
   },
   "outputs": [],
   "source": []
  }
 ],
 "metadata": {
  "kernelspec": {
   "display_name": "Python 3",
   "language": "python",
   "name": "python3"
  },
  "language_info": {
   "codemirror_mode": {
    "name": "ipython",
    "version": 3
   },
   "file_extension": ".py",
   "mimetype": "text/x-python",
   "name": "python",
   "nbconvert_exporter": "python",
   "pygments_lexer": "ipython3",
   "version": "3.6.1"
  }
 },
 "nbformat": 4,
 "nbformat_minor": 2
}
