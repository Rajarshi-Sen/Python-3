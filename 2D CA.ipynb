{
 "cells": [
  {
   "cell_type": "markdown",
   "metadata": {},
   "source": [
    "# 2D CA in Python:"
   ]
  },
  {
   "cell_type": "markdown",
   "metadata": {},
   "source": [
    "### all updates are done simultaneously i.e, at the same time"
   ]
  },
  {
   "cell_type": "markdown",
   "metadata": {},
   "source": [
    "### order is not important. Just need go to the next state for all at the same time."
   ]
  },
  {
   "cell_type": "code",
   "execution_count": 1,
   "metadata": {
    "collapsed": true
   },
   "outputs": [],
   "source": [
    "CA=[[1,2,3],[4,5,6],[7,8,9]]"
   ]
  },
  {
   "cell_type": "code",
   "execution_count": 2,
   "metadata": {},
   "outputs": [
    {
     "name": "stdout",
     "output_type": "stream",
     "text": [
      "0 ## [1, 2, 3]\n",
      "1 ## [4, 5, 6]\n",
      "2 ## [7, 8, 9]\n"
     ]
    }
   ],
   "source": [
    "for i1,l1 in enumerate(CA):\n",
    "    print(i1,\"##\",l1)"
   ]
  },
  {
   "cell_type": "code",
   "execution_count": 3,
   "metadata": {},
   "outputs": [
    {
     "name": "stdout",
     "output_type": "stream",
     "text": [
      "1 2 3 \n",
      "4 5 6 \n",
      "7 8 9 \n"
     ]
    }
   ],
   "source": [
    "for i1,l1 in enumerate(CA):\n",
    "    for i2,l2 in enumerate(CA[i1]):\n",
    "        print(l2,end=' ')\n",
    "    print()\n"
   ]
  },
  {
   "cell_type": "markdown",
   "metadata": {},
   "source": [
    "### Emergence: is the process where larger patterns arise through interactions among smaller entities that themselves do not exhibit such properties."
   ]
  },
  {
   "cell_type": "markdown",
   "metadata": {
    "collapsed": true
   },
   "source": [
    "## HomeWork from slides"
   ]
  },
  {
   "cell_type": "code",
   "execution_count": 4,
   "metadata": {
    "collapsed": true
   },
   "outputs": [],
   "source": [
    "# to make a Cellular Automata max 2D\n",
    "def makeCA(width=1, height=1, defaultValue=0):\n",
    "    CA = []\n",
    "    for row in range(height):\n",
    "        CA.append([defaultValue]*width)\n",
    "    return CA"
   ]
  },
  {
   "cell_type": "code",
   "execution_count": 5,
   "metadata": {
    "collapsed": true
   },
   "outputs": [],
   "source": [
    "#to randomise the cellular automata with 1 or 0 as values\n",
    "def randomise(CA):\n",
    "    import random\n",
    "    for row in range(len(CA)):\n",
    "        for col in range(len(CA[row])):\n",
    "            CA[row][col] = random.randint(0,1)\n",
    "    return CA"
   ]
  },
  {
   "cell_type": "code",
   "execution_count": 6,
   "metadata": {},
   "outputs": [
    {
     "data": {
      "text/plain": [
       "[[0, 0, 0], [0, 0, 0]]"
      ]
     },
     "execution_count": 6,
     "metadata": {},
     "output_type": "execute_result"
    }
   ],
   "source": [
    "makeCA(3,2)"
   ]
  },
  {
   "cell_type": "code",
   "execution_count": 7,
   "metadata": {},
   "outputs": [
    {
     "data": {
      "text/plain": [
       "[[1, 0, 0], [0, 0, 0]]"
      ]
     },
     "execution_count": 7,
     "metadata": {},
     "output_type": "execute_result"
    }
   ],
   "source": [
    "randomise(makeCA(3,2))"
   ]
  },
  {
   "cell_type": "code",
   "execution_count": 8,
   "metadata": {
    "collapsed": true
   },
   "outputs": [],
   "source": [
    "#finds the state of top, right, bottom and left neighbours for a given cell\n",
    "def get4Neighbours(i,j,myCA):\n",
    "    neighbour = []\n",
    "    if i>0:\n",
    "        neighbour.append(myCA[i-1][j])\n",
    "    if j<len(myCA[i])-1:\n",
    "        neighbour.append(myCA[i][j+1])\n",
    "    if i<len(myCA[j])-1:\n",
    "        neighbour.append(myCA[i+1][j])\n",
    "    if j>0:\n",
    "        neighbour.append(myCA[i][j-1])\n",
    "        \n",
    "    return neighbour"
   ]
  },
  {
   "cell_type": "code",
   "execution_count": 9,
   "metadata": {
    "collapsed": true
   },
   "outputs": [],
   "source": [
    "# gets the state of the neighbours of the cell located in the position ith row and jth column\n",
    "def nextState(neighbours):\n",
    "    count = 0\n",
    "    for neighbour in neighbours:\n",
    "        count += neighbour\n",
    "    if count<2:\n",
    "        return 0\n",
    "    return 1\n",
    "        "
   ]
  },
  {
   "cell_type": "code",
   "execution_count": 10,
   "metadata": {
    "collapsed": true
   },
   "outputs": [],
   "source": [
    "#def update(CA):\n",
    "    temp = makeCA(len(CA), len(CA[0]))\n",
    "    for row in range(len(CA)):\n",
    "        for cell in range(len(CA[row])):\n",
    "            temp[row][cell]= nextState(get4Neighbours(row,cell,CA))\n",
    "    #needs deep copy\n",
    "    print(temp)\n",
    "    return temp"
   ]
  },
  {
   "cell_type": "code",
   "execution_count": 16,
   "metadata": {
    "collapsed": true
   },
   "outputs": [],
   "source": [
    "def update(CA):\n",
    "    temp = makeCA(len(CA), len(CA[0]))\n",
    "    for row in range(len(CA)):\n",
    "        for cell in range(len(CA[row])):\n",
    "            temp[row][cell]= nextState(get4Neighbours(row,cell,CA))\n",
    "    #needs deep copy\n",
    "    #print(temp)\n",
    "    for row in range(len(CA)):\n",
    "        for cell in range(len(CA[row])):\n",
    "            CA[row][cell] = temp[row][cell]\n",
    "    return"
   ]
  },
  {
   "cell_type": "code",
   "execution_count": 31,
   "metadata": {},
   "outputs": [
    {
     "data": {
      "text/plain": [
       "<matplotlib.image.AxesImage at 0x10719055198>"
      ]
     },
     "execution_count": 31,
     "metadata": {},
     "output_type": "execute_result"
    },
    {
     "data": {
      "image/png": "[encoded data removed]",
      "text/plain": [
       "<matplotlib.figure.Figure at 0x10718c55518>"
      ]
     },
     "metadata": {},
     "output_type": "display_data"
    }
   ],
   "source": [
    "# for visualising the Emergence:\n",
    "import numpy as np\n",
    "from matplotlib import pyplot as plt\n",
    "%matplotlib inline\n",
    "myCA = makeCA(50,50)\n",
    "randomise(myCA)\n",
    "#myCA[1][1]=1\n",
    "for i in range(30):\n",
    "    update(myCA)\n",
    "    #print(myCA)\n",
    "    #print('**********')\n",
    "    #print(myCA)\n",
    "\n",
    "plt.imshow(np.array(myCA, dtype=int), cmap='gray')\n"
   ]
  },
  {
   "cell_type": "code",
   "execution_count": null,
   "metadata": {
    "collapsed": true
   },
   "outputs": [],
   "source": []
  }
 ],
 "metadata": {
  "kernelspec": {
   "display_name": "Python 3",
   "language": "python",
   "name": "python3"
  },
  "language_info": {
   "codemirror_mode": {
    "name": "ipython",
    "version": 3
   },
   "file_extension": ".py",
   "mimetype": "text/x-python",
   "name": "python",
   "nbconvert_exporter": "python",
   "pygments_lexer": "ipython3",
   "version": "3.6.1"
  }
 },
 "nbformat": 4,
 "nbformat_minor": 2
}
