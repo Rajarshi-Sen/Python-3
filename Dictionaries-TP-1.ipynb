{
 "cells": [
  {
   "cell_type": "markdown",
   "metadata": {},
   "source": [
    "## Data Processing"
   ]
  },
  {
   "cell_type": "code",
   "execution_count": 2,
   "metadata": {
    "collapsed": true
   },
   "outputs": [],
   "source": [
    "### Access the data"
   ]
  },
  {
   "cell_type": "code",
   "execution_count": 1,
   "metadata": {},
   "outputs": [
    {
     "name": "stdout",
     "output_type": "stream",
     "text": [
      " Volume in drive C is OS\n",
      " Volume Serial Number is CAB0-6806\n",
      "\n",
      " Directory of C:\\Users\\rajar\\Python Codes\n",
      "\n",
      "10/10/2017  01:11 PM    <DIR>          .\n",
      "10/10/2017  01:11 PM    <DIR>          ..\n",
      "10/10/2017  01:11 PM    <DIR>          .ipynb_checkpoints\n",
      "09/13/2017  06:58 AM             4,722 2a-Practice_Questions.ipynb\n",
      "10/08/2017  12:14 AM            12,221 2D CA.ipynb\n",
      "09/19/2017  11:47 AM             1,464 5_Pointed_Star.ipynb\n",
      "10/09/2017  08:22 AM            11,840 CME Initial Screen Interview.ipynb\n",
      "09/19/2017  11:52 AM            25,193 Conditional_Home_Reading.ipynb\n",
      "09/28/2017  01:29 PM             7,746 Dictioanries.ipynb\n",
      "09/19/2017  09:37 PM             8,181 Extra Practice.ipynb\n",
      "09/05/2017  04:14 PM             3,056 First.ipynb\n",
      "09/15/2017  08:12 AM             8,815 ITA Tech Challenge.ipynb\n",
      "10/03/2017  11:07 AM            24,521 List_Basics.ipynb\n",
      "09/26/2017  08:24 PM             4,790 List_Bonus.ipynb\n",
      "10/03/2017  12:23 PM            23,962 Lists_Home_Reading.ipynb\n",
      "09/26/2017  08:40 PM            18,277 L-System_Basics.ipynb\n",
      "09/26/2017  02:55 PM             6,536 L-Systems_Tree.ipynb\n",
      "10/03/2017  12:16 PM             3,138 Untitled.ipynb\n",
      "09/26/2017  08:30 PM               581 Untitled1.ipynb\n",
      "10/10/2017  01:11 PM                72 Untitled2.ipynb\n",
      "              17 File(s)        165,115 bytes\n",
      "               3 Dir(s)  47,430,287,360 bytes free\n"
     ]
    }
   ],
   "source": [
    "ls"
   ]
  },
  {
   "cell_type": "code",
   "execution_count": 2,
   "metadata": {},
   "outputs": [
    {
     "name": "stdout",
     "output_type": "stream",
     "text": [
      "D:\\NIU\\Course Details\\Fall-17\\Python\\2-Imperative Programming\\data\n"
     ]
    }
   ],
   "source": [
    "cd \"D:\\NIU\\Course Details\\Fall-17\\Python\\2-Imperative Programming\\data\""
   ]
  },
  {
   "cell_type": "code",
   "execution_count": 5,
   "metadata": {},
   "outputs": [
    {
     "ename": "SyntaxError",
     "evalue": "invalid syntax (<ipython-input-5-8bab76f8871c>, line 1)",
     "output_type": "error",
     "traceback": [
      "\u001b[1;36m  File \u001b[1;32m\"<ipython-input-5-8bab76f8871c>\"\u001b[1;36m, line \u001b[1;32m1\u001b[0m\n\u001b[1;33m    <img = \"D:\\NIU\\Course Details\\Fall-17\\Python\\2-Imperative Programming\\data\\1Records.png\">\u001b[0m\n\u001b[1;37m    ^\u001b[0m\n\u001b[1;31mSyntaxError\u001b[0m\u001b[1;31m:\u001b[0m invalid syntax\n"
     ]
    }
   ],
   "source": [
    "<img = \"D:\\NIU\\Course Details\\Fall-17\\Python\\2-Imperative Programming\\data\\1Records.png\">"
   ]
  },
  {
   "cell_type": "code",
   "execution_count": 8,
   "metadata": {},
   "outputs": [
    {
     "name": "stdout",
     "output_type": "stream",
     "text": [
      "['1', '145', 'Alone\\n']\n",
      "['2', '145', 'With friends\\n']\n",
      "['3', '147', 'With friends\\n']\n",
      "['4', '149', 'With family\\n']\n",
      "['5', '150', 'Alone\\n']\n",
      "['6', '149', 'Alone\\n']\n",
      "['7', '148', 'Alone\\n']\n",
      "['8', '147', 'With friends\\n']\n",
      "['9', '148', 'With friends\\n']\n",
      "['10', '150', 'With friends\\n']\n",
      "['11', '151', 'With family\\n']\n",
      "['12', '151', 'Alone\\n']\n",
      "['13', '150', 'Alone']\n",
      "148.46153846153845\n"
     ]
    }
   ],
   "source": [
    "f = open('1Records.txt')\n",
    "f.readline()\n",
    "total = 0\n",
    "weights = []\n",
    "#count = 0\n",
    "for line in f:\n",
    "    L = line.split(',')\n",
    "    total += int(L[1])\n",
    "    weights.append(int(L[1]))\n",
    "#   count += 1\n",
    "    print(l)\n",
    "f.close()\n",
    "average = total/count\n",
    "print(average)"
   ]
  },
  {
   "cell_type": "markdown",
   "metadata": {},
   "source": [
    "## Count of each category that is ate alone, ate with friends."
   ]
  },
  {
   "cell_type": "code",
   "execution_count": 4,
   "metadata": {},
   "outputs": [
    {
     "name": "stdout",
     "output_type": "stream",
     "text": [
      "{'Alone': 6, 'With friends': 5, 'With family': 2}\n"
     ]
    }
   ],
   "source": [
    "f = open('1Records.txt')\n",
    "f.readline()\n",
    "people = {}\n",
    "for line in f:\n",
    "    #print(line)\n",
    "    who = line.split(',')[2].strip('\\n')\n",
    "    if who in people:\n",
    "        people[who] += 1\n",
    "    else:\n",
    "        people[who] = 1\n",
    "f.close()\n",
    "print(people)   \n",
    "    "
   ]
  },
  {
   "cell_type": "markdown",
   "metadata": {},
   "source": [
    "## Cleaning the DataSet"
   ]
  },
  {
   "cell_type": "code",
   "execution_count": null,
   "metadata": {
    "collapsed": true
   },
   "outputs": [],
   "source": [
    "# 2Records.txt -> reFormat it to 1Records.txt format\n",
    "f = open('2Records.txt')\n",
    "cleanedF = open('2Records-Formatted.txt','w')\n",
    "f.readline()\n",
    "for line in f:\n",
    "    words = line.split(',')\n",
    "    if(len(words)==1):\n",
    "        words = line\n",
    "    else:\n",
    "        cleanedF.write()\n",
    "f.close()\n",
    "newF.close()"
   ]
  }
 ],
 "metadata": {
  "kernelspec": {
   "display_name": "Python 3",
   "language": "python",
   "name": "python3"
  },
  "language_info": {
   "codemirror_mode": {
    "name": "ipython",
    "version": 3
   },
   "file_extension": ".py",
   "mimetype": "text/x-python",
   "name": "python",
   "nbconvert_exporter": "python",
   "pygments_lexer": "ipython3",
   "version": "3.6.1"
  }
 },
 "nbformat": 4,
 "nbformat_minor": 2
}
