{
 "cells": [
  {
   "cell_type": "code",
   "execution_count": 8,
   "metadata": {},
   "outputs": [],
   "source": [
    "def prac1():\n",
    "    import sys\n",
    "    s1 = input()\n",
    "    for line in sys.stdin:\n",
    "        print(line, '****', s1, end=\"\")\n",
    "    return"
   ]
  },
  {
   "cell_type": "code",
   "execution_count": 9,
   "metadata": {},
   "outputs": [
    {
     "name": "stdout",
     "output_type": "stream",
     "text": [
      "love\n"
     ]
    }
   ],
   "source": [
    "prac1()"
   ]
  },
  {
   "cell_type": "markdown",
   "metadata": {},
   "source": [
    "#### This is a practice programming challenge. Use this screen to explore the programming interface and try the simple challenge below. Nothing you do on this page will be recorded. When you are ready to proceed to your first scored challenge, click “Finish Practicing” above. \n",
    "\n",
    "##### Programming Challenge Description: \n",
    "###### Write a program that squares an integer and prints the result.\n",
    "Input: \n",
    "Your program should read lines from standard input. Each line will contain a positive integer.\n",
    "Output: \n",
    "For each line of input, print to standard output the square of the number. Print out each result on a new line."
   ]
  },
  {
   "cell_type": "code",
   "execution_count": 10,
   "metadata": {
    "collapsed": true
   },
   "outputs": [],
   "source": [
    "#Solution\n",
    "import sys\n",
    "for line in sys.stdin:\n",
    "    print(int(line)**2, end=\"\")\n"
   ]
  },
  {
   "cell_type": "code",
   "execution_count": 11,
   "metadata": {
    "collapsed": true
   },
   "outputs": [],
   "source": [
    "def fibonacci(inputNo):\n",
    "    num = int(inputNo)\n",
    "    if num == 0:\n",
    "        return 0\n",
    "    if num == 1:\n",
    "        return 1\n",
    "    return fibonacci(num-1) + fibonacci(num-2)"
   ]
  },
  {
   "cell_type": "code",
   "execution_count": 13,
   "metadata": {},
   "outputs": [
    {
     "data": {
      "text/plain": [
       "144"
      ]
     },
     "execution_count": 13,
     "metadata": {},
     "output_type": "execute_result"
    }
   ],
   "source": [
    "fibonacci(12)"
   ]
  },
  {
   "cell_type": "markdown",
   "metadata": {},
   "source": [
    "#### Programming Challenge Description: \n",
    "Given a large set of numbers, print out the lowest unique value. Please use a Set or Set-like data structure in your solution.\n",
    "Input: \n",
    "There will be 1 line per run which contains a set of positive integers seperated by spaces.\n",
    "It is guarenteed that there will be at least 1 unique number in the set.\n",
    "Numbers will be in the range 0 < N <= 32767\n",
    "Output: \n",
    "The lowest unique value in the inputed set."
   ]
  },
  {
   "cell_type": "code",
   "execution_count": 19,
   "metadata": {
    "collapsed": true
   },
   "outputs": [],
   "source": [
    "def minUnique(inputLine):\n",
    "    import re\n",
    "    numList = re.split('\\W+',inputLine)\n",
    "    numList.sort()\n",
    "    count = 0\n",
    "    minNo = numList[0]\n",
    "    for num in numList:\n",
    "        if minNo == num:\n",
    "            count += 1\n",
    "        else:\n",
    "            if count == 1:\n",
    "                break\n",
    "            else:\n",
    "                count = 1\n",
    "                minNo = num\n",
    "    return minNo"
   ]
  },
  {
   "cell_type": "code",
   "execution_count": 21,
   "metadata": {},
   "outputs": [
    {
     "data": {
      "text/plain": [
       "'4'"
      ]
     },
     "execution_count": 21,
     "metadata": {},
     "output_type": "execute_result"
    }
   ],
   "source": [
    "minUnique(\"1 2 1 2 3 3 4 5 6\")"
   ]
  },
  {
   "cell_type": "markdown",
   "metadata": {},
   "source": [
    "#### Programming Challenge Description: \n",
    "Given a string comprising just of the characters (,),{,},[,] determine if it is well-formed or not.\n",
    "Input: \n",
    "Your program should read lines from standard input. Each line contains a string comprising of the characters mentioned above. There is no whitespace between characters.\n",
    "Output: \n",
    "Print out True if the string is well-formed, False otherwise.\n",
    "\n",
    "Test 1 \n",
    "Test Input \n",
    "() \n",
    "Expected Output\n",
    "True \n",
    "\n",
    "Test 2 \n",
    "Test Input \n",
    "([)] \n",
    "Expected Output \n",
    "False "
   ]
  },
  {
   "cell_type": "code",
   "execution_count": 22,
   "metadata": {
    "collapsed": true
   },
   "outputs": [],
   "source": [
    "def welFormed(string):\n",
    "    myDict = {'(':')','{':'}','[':']'}\n",
    "    validNext = None\n",
    "    for char in string:\n",
    "        if validNext is None:\n",
    "            validNext = myDict[char]\n",
    "        elif validNext == char:\n",
    "            continue\n",
    "        else:\n",
    "            return False       \n",
    "    return True"
   ]
  },
  {
   "cell_type": "code",
   "execution_count": 23,
   "metadata": {},
   "outputs": [
    {
     "data": {
      "text/plain": [
       "True"
      ]
     },
     "execution_count": 23,
     "metadata": {},
     "output_type": "execute_result"
    }
   ],
   "source": [
    "welFormed('()')"
   ]
  },
  {
   "cell_type": "code",
   "execution_count": 24,
   "metadata": {},
   "outputs": [
    {
     "data": {
      "text/plain": [
       "False"
      ]
     },
     "execution_count": 24,
     "metadata": {},
     "output_type": "execute_result"
    }
   ],
   "source": [
    "welFormed('([)]') "
   ]
  },
  {
   "cell_type": "markdown",
   "metadata": {},
   "source": [
    "#### Programming Challenge Description: \n",
    "Imagine you are a detective investigating a hostage case and have obtained a ransom note from the hostage taker. Since handwriting recognition could easily identify the hostage taker, the suspect chose to \"write\" the letter by pasting together clippings of individual letters from magazines. You've identified a particularly well-read suspect and have obtained all of the magazines he may have read in the past month, and as a result, know all of the individual letters contained by the set of magazines.\n",
    "Compare the letters in the list of magazines and the letters in ransom note to determine if your suspect could have possibly \"written\" this ransom note.\n",
    "Assume that the magazines and the ransom note only contain characters you can see on a standard US keyboard and spaces. You do NOT need to \"obtain\" space characters from the magazines to create the ransom note (as the suspect could just manually spaceout letters).\n",
    "\n",
    "As you write your solution, keep performance in mind, as the list of magazines (or magazines themselves) may be very long.\n",
    "Input:\n",
    "\n",
    "The first line will be the Ransom note.\n",
    "The second line will be the number of magazines followed by one magazine per line.\n",
    "All characters in the note and all magazines will be ASCII characters with binary values less than 256.\n",
    "Output: \n",
    "Either 'true' if then note can be constructed or 'false' if it can't be."
   ]
  },
  {
   "cell_type": "markdown",
   "metadata": {},
   "source": [
    "### Test 1 \n",
    "##### Input\n",
    "asdfqwerty\n",
    "1\n",
    "qweraty sdf\n",
    "##### Output\n",
    "true\n",
    "\n",
    "### Test 2\n",
    "##### Input\n",
    "asdf qwerty\n",
    "2\n",
    "qasdf\n",
    "werty\n",
    "##### Output\n",
    "true\n",
    "\n",
    "### Test 3\n",
    "##### Input\n",
    "ddd ddd\n",
    "2\n",
    "dd\n",
    "ddd\n",
    "##### Output\n",
    "false"
   ]
  },
  {
   "cell_type": "code",
   "execution_count": 45,
   "metadata": {},
   "outputs": [],
   "source": [
    "def investigate(inputLines):\n",
    "    import re\n",
    "    ransom = inputLines[0]\n",
    "    noOfMagazines = int(inputLines[1]) + 2\n",
    "    count = 2\n",
    "    magazineList = []\n",
    "    while count < noOfMagazines:\n",
    "        for char in inputLines[count]:\n",
    "            if char != ' ':\n",
    "                magazineList.append(char)\n",
    "        count += 1\n",
    "        \n",
    "    print(magazineList)\n",
    "    \n",
    "    for char in ransom:\n",
    "        print(char)\n",
    "        print(magazineList)\n",
    "        flag = False #not Found\n",
    "        if char == ' ':\n",
    "            continue\n",
    "        for i in range(len(magazineList)):\n",
    "            if char == magazineList[i]:\n",
    "                flag = True\n",
    "                del magazineList[i]\n",
    "                break\n",
    "        if flag == False:\n",
    "            return False\n",
    "        #if magazineList.index(char):\n",
    "         #   magazineList.remove(char)\n",
    "        #else:\n",
    "            #return False\n",
    "    return True"
   ]
  },
  {
   "cell_type": "code",
   "execution_count": 46,
   "metadata": {},
   "outputs": [
    {
     "name": "stdout",
     "output_type": "stream",
     "text": [
      "['q', 'w', 'e', 'r', 'a', 't', 'y', 's', 'd', 'f']\n",
      "a\n",
      "['q', 'w', 'e', 'r', 'a', 't', 'y', 's', 'd', 'f']\n",
      "s\n",
      "['q', 'w', 'e', 'r', 't', 'y', 's', 'd', 'f']\n",
      "d\n",
      "['q', 'w', 'e', 'r', 't', 'y', 'd', 'f']\n",
      "f\n",
      "['q', 'w', 'e', 'r', 't', 'y', 'f']\n",
      "q\n",
      "['q', 'w', 'e', 'r', 't', 'y']\n",
      "w\n",
      "['w', 'e', 'r', 't', 'y']\n",
      "e\n",
      "['e', 'r', 't', 'y']\n",
      "r\n",
      "['r', 't', 'y']\n",
      "t\n",
      "['t', 'y']\n",
      "y\n",
      "['y']\n"
     ]
    },
    {
     "data": {
      "text/plain": [
       "True"
      ]
     },
     "execution_count": 46,
     "metadata": {},
     "output_type": "execute_result"
    }
   ],
   "source": [
    "investigate(['asdfqwerty','1','qweraty sdf'])"
   ]
  },
  {
   "cell_type": "markdown",
   "metadata": {},
   "source": [
    "### Submitted"
   ]
  },
  {
   "cell_type": "code",
   "execution_count": null,
   "metadata": {
    "collapsed": true
   },
   "outputs": [],
   "source": [
    "def investigate(inputLines):\n",
    "    import re\n",
    "    ransom = inputLines[0]\n",
    "    noOfMagazines = int(inputLines[1]) + 2\n",
    "    count = 2\n",
    "    magazineList = []\n",
    "    while count < noOfMagazines:\n",
    "        for char in inputLines[count]:\n",
    "            if char != ' ':\n",
    "                magazineList.append(char)\n",
    "        count += 1\n",
    "        \n",
    "    #print(magazineList)\n",
    "    \n",
    "    for char in ransom:\n",
    "        #print(char)\n",
    "        #print(magazineList)\n",
    "        flag = False #not Found\n",
    "        if char == ' ':\n",
    "            continue\n",
    "        for i in range(len(magazineList)):\n",
    "            if char == magazineList[i]:\n",
    "                flag = True\n",
    "                del magazineList[i]\n",
    "                break\n",
    "        if flag == False:\n",
    "            return 'false'\n",
    "            \n",
    "    return 'true'\n",
    "\n",
    "import sys\n",
    "lines = []\n",
    "for line in sys.stdin:\n",
    "    lines.append(line)\n",
    "\n",
    "print(investigate(lines))\n"
   ]
  }
 ],
 "metadata": {
  "kernelspec": {
   "display_name": "Python 3",
   "language": "python",
   "name": "python3"
  },
  "language_info": {
   "codemirror_mode": {
    "name": "ipython",
    "version": 3
   },
   "file_extension": ".py",
   "mimetype": "text/x-python",
   "name": "python",
   "nbconvert_exporter": "python",
   "pygments_lexer": "ipython3",
   "version": "3.6.1"
  }
 },
 "nbformat": 4,
 "nbformat_minor": 2
}
