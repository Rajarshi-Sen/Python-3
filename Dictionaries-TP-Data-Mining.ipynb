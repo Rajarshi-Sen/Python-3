{
 "cells": [
  {
   "cell_type": "markdown",
   "metadata": {},
   "source": [
    "## Processing Comments"
   ]
  },
  {
   "cell_type": "markdown",
   "metadata": {},
   "source": [
    "#### Figure different formats..."
   ]
  },
  {
   "cell_type": "code",
   "execution_count": 2,
   "metadata": {},
   "outputs": [
    {
     "name": "stdout",
     "output_type": "stream",
     "text": [
      "D:\\NIU\\Course Details\\Fall-17\\Python\\2-Imperative Programming\\Processing Comments\\data\\original files\n"
     ]
    }
   ],
   "source": [
    "cd \"D:\\NIU\\Course Details\\Fall-17\\Python\\2-Imperative Programming\\Processing Comments\\data\\original files\""
   ]
  },
  {
   "cell_type": "code",
   "execution_count": 4,
   "metadata": {},
   "outputs": [
    {
     "name": "stdout",
     "output_type": "stream",
     "text": [
      "\n",
      "\n",
      "    2 comments\n",
      "\n",
      "    ContraCostaTimes\n",
      "\n",
      "    Login\n",
      "\n",
      "\n",
      "\n",
      "    Sort by Newest\n",
      "\n",
      "    Share\n",
      "\n",
      "    Recommend\n",
      "\n",
      "\n",
      "\n",
      "Avatar\n",
      "\n",
      "Join the discussion…\n",
      "\n",
      "\n",
      "\n",
      "    Avatar\n",
      "\n",
      "    Human • 3 months ago\n",
      "\n",
      "\n",
      "\n",
      "    Cool. A consumption tax ... literally. A \"regressive\" tax done by \"progressives\". LOL. Awesome!! Go for it.\n",
      "\n",
      "    •\n",
      "\n",
      "    Reply\n",
      "\n",
      "    •\n",
      "\n",
      "    Share ›\n",
      "\n",
      "        -\n",
      "\n",
      "    Avatar\n",
      "\n",
      "    Sensus • 3 months ago\n",
      "\n",
      "\n",
      "\n",
      "    \"Measure D will impose a 1-cent-per-ounce tax on the distribution of most sugar-sweetened beverages, raising an estimated $1 million to $2 million annually for the city's general fund.\" this is why the city wanted for this measure to pass. It has nothing to do with children's health.\n",
      "\n",
      "    •\n",
      "\n",
      "    Reply\n",
      "\n",
      "    •\n",
      "\n",
      "    Share ›\n",
      "\n"
     ]
    }
   ],
   "source": [
    "f = open(\"125 [comments].txt\")\n",
    "for line in f:\n",
    "    print(line)\n",
    "    \n",
    "f.close()"
   ]
  },
  {
   "cell_type": "code",
   "execution_count": null,
   "metadata": {
    "collapsed": true
   },
   "outputs": [],
   "source": []
  }
 ],
 "metadata": {
  "kernelspec": {
   "display_name": "Python 3",
   "language": "python",
   "name": "python3"
  },
  "language_info": {
   "codemirror_mode": {
    "name": "ipython",
    "version": 3
   },
   "file_extension": ".py",
   "mimetype": "text/x-python",
   "name": "python",
   "nbconvert_exporter": "python",
   "pygments_lexer": "ipython3",
   "version": "3.6.1"
  }
 },
 "nbformat": 4,
 "nbformat_minor": 2
}
