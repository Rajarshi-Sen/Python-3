{
 "cells": [
  {
   "cell_type": "code",
   "execution_count": 1,
   "metadata": {
    "collapsed": true
   },
   "outputs": [],
   "source": [
    "def  getMaxElementIndices(a, rotate):\n",
    "    indices = []\n",
    "    max_pos = 0\n",
    "    size_a = len(a)\n",
    "    for index,element in enumerate(a):\n",
    "            if element > a[max_pos]:\n",
    "                max_pos = index\n",
    "    i = 0\n",
    "    while i<len(rotate):\n",
    "        no_of_rotations = rotate[i]\n",
    "        j = 0\n",
    "        pos = max_pos\n",
    "        while j < no_of_rotations:\n",
    "            if pos > 0:\n",
    "                pos -= 1\n",
    "            else:\n",
    "                pos = size_a - 1\n",
    "            j += 1\n",
    "        indices.append(pos)\n",
    "        i += 1\n",
    "    return indices    \n",
    "    \n",
    "            \n",
    "            \n",
    "           \n",
    "                    \n",
    "                \n",
    "            "
   ]
  },
  {
   "cell_type": "code",
   "execution_count": 2,
   "metadata": {},
   "outputs": [
    {
     "data": {
      "text/plain": [
       "[2, 0]"
      ]
     },
     "execution_count": 2,
     "metadata": {},
     "output_type": "execute_result"
    }
   ],
   "source": [
    "getMaxElementIndices([1,2,4,3], [0,2])"
   ]
  },
  {
   "cell_type": "code",
   "execution_count": 3,
   "metadata": {},
   "outputs": [
    {
     "data": {
      "text/plain": [
       "4"
      ]
     },
     "execution_count": 3,
     "metadata": {},
     "output_type": "execute_result"
    }
   ],
   "source": [
    "s = 'abcd'\n",
    "len(s)"
   ]
  },
  {
   "cell_type": "code",
   "execution_count": 1,
   "metadata": {
    "collapsed": true
   },
   "outputs": [],
   "source": [
    "def  dnaComplement(s):\n",
    "    str_com = ''\n",
    "    str_rev = ''\n",
    "    str_len = len(s)\n",
    "    if 1 > str_len or 1000 < str_len:\n",
    "        return 'Constraint Violated: String has to be of length greater than 0 and less than 1001'\n",
    "    \n",
    "    while str_len > 0:\n",
    "        str_rev += s[str_len - 1]\n",
    "        str_len -= 1\n",
    "        \n",
    "    for element in str_rev:\n",
    "        if element == 'A':\n",
    "            str_com += 'T'\n",
    "        elif element == 'T':\n",
    "            str_com += 'A'\n",
    "        elif element == 'C':\n",
    "            str_com += 'G'\n",
    "        elif element == 'G':\n",
    "            str_com += 'C'\n",
    "        else:\n",
    "            return element,'Invalid DNA strand'\n",
    "        \n",
    "    return str_com\n",
    "        "
   ]
  },
  {
   "cell_type": "code",
   "execution_count": 3,
   "metadata": {},
   "outputs": [
    {
     "data": {
      "text/plain": [
       "'GCAT'"
      ]
     },
     "execution_count": 3,
     "metadata": {},
     "output_type": "execute_result"
    }
   ],
   "source": [
    "dnaComplement('ATGC')"
   ]
  },
  {
   "cell_type": "code",
   "execution_count": 4,
   "metadata": {},
   "outputs": [
    {
     "data": {
      "text/plain": [
       "'TACGAT'"
      ]
     },
     "execution_count": 4,
     "metadata": {},
     "output_type": "execute_result"
    }
   ],
   "source": [
    "dnaComplement('ATCGTA')"
   ]
  },
  {
   "cell_type": "code",
   "execution_count": 20,
   "metadata": {
    "collapsed": true
   },
   "outputs": [],
   "source": [
    "def  teamFormation(score, team, m):\n",
    "    score_size = len(score)\n",
    "    total = 0\n",
    "    temp = score\n",
    "    \n",
    "    if 1 > score_size or score_size > (10**5) or 1 > team or team > score_size or 1 > m or m > score_size:\n",
    "        return \"Constraints Violated!!\"\n",
    "    \n",
    "    i = 0\n",
    "    while i < team:\n",
    "        max = 0\n",
    "        j = 1\n",
    "        while j < m:\n",
    "            if(temp[j] > temp[max]):\n",
    "                max = j\n",
    "            if(temp[-(j)] > temp[max]):\n",
    "                max = -(j)\n",
    "            j += 1\n",
    "        total += temp[max]\n",
    "        print(temp,'****',i,'****',m,'---',j,'****',max,'****',total)\n",
    "        temp.remove(temp[max])\n",
    "        i += 1\n",
    "        \n",
    "    return total\n",
    "        \n",
    "                \n",
    "                "
   ]
  },
  {
   "cell_type": "code",
   "execution_count": 21,
   "metadata": {},
   "outputs": [
    {
     "name": "stdout",
     "output_type": "stream",
     "text": [
      "[6, 18, 8, 14, 10, 12, 18, 9] **** 0 **** 3 --- 3 **** 1 **** 18\n",
      "[6, 8, 14, 10, 12, 18, 9] **** 1 **** 3 --- 3 **** -2 **** 36\n",
      "[6, 8, 14, 10, 12, 9] **** 2 **** 3 --- 3 **** 2 **** 50\n",
      "[6, 8, 10, 12, 9] **** 3 **** 3 --- 3 **** -2 **** 62\n",
      "[6, 8, 10, 9] **** 4 **** 3 --- 3 **** 2 **** 72\n",
      "[6, 8, 9] **** 5 **** 3 --- 3 **** -1 **** 81\n"
     ]
    },
    {
     "ename": "IndexError",
     "evalue": "list index out of range",
     "output_type": "error",
     "traceback": [
      "\u001b[1;31m---------------------------------------------------------------------------\u001b[0m",
      "\u001b[1;31mIndexError\u001b[0m                                Traceback (most recent call last)",
      "\u001b[1;32m<ipython-input-21-1af42742b607>\u001b[0m in \u001b[0;36m<module>\u001b[1;34m()\u001b[0m\n\u001b[1;32m----> 1\u001b[1;33m \u001b[0mteamFormation\u001b[0m\u001b[1;33m(\u001b[0m\u001b[1;33m[\u001b[0m\u001b[1;36m6\u001b[0m\u001b[1;33m,\u001b[0m\u001b[1;36m18\u001b[0m\u001b[1;33m,\u001b[0m\u001b[1;36m8\u001b[0m\u001b[1;33m,\u001b[0m\u001b[1;36m14\u001b[0m\u001b[1;33m,\u001b[0m\u001b[1;36m10\u001b[0m\u001b[1;33m,\u001b[0m\u001b[1;36m12\u001b[0m\u001b[1;33m,\u001b[0m\u001b[1;36m18\u001b[0m\u001b[1;33m,\u001b[0m\u001b[1;36m9\u001b[0m\u001b[1;33m]\u001b[0m\u001b[1;33m,\u001b[0m\u001b[1;36m8\u001b[0m\u001b[1;33m,\u001b[0m\u001b[1;36m3\u001b[0m\u001b[1;33m)\u001b[0m\u001b[1;33m\u001b[0m\u001b[0m\n\u001b[0m",
      "\u001b[1;32m<ipython-input-20-12c20034c7ae>\u001b[0m in \u001b[0;36mteamFormation\u001b[1;34m(score, team, m)\u001b[0m\n\u001b[0;32m     12\u001b[0m         \u001b[0mj\u001b[0m \u001b[1;33m=\u001b[0m \u001b[1;36m1\u001b[0m\u001b[1;33m\u001b[0m\u001b[0m\n\u001b[0;32m     13\u001b[0m         \u001b[1;32mwhile\u001b[0m \u001b[0mj\u001b[0m \u001b[1;33m<\u001b[0m \u001b[0mm\u001b[0m\u001b[1;33m:\u001b[0m\u001b[1;33m\u001b[0m\u001b[0m\n\u001b[1;32m---> 14\u001b[1;33m             \u001b[1;32mif\u001b[0m\u001b[1;33m(\u001b[0m\u001b[0mtemp\u001b[0m\u001b[1;33m[\u001b[0m\u001b[0mj\u001b[0m\u001b[1;33m]\u001b[0m \u001b[1;33m>\u001b[0m \u001b[0mtemp\u001b[0m\u001b[1;33m[\u001b[0m\u001b[0mmax\u001b[0m\u001b[1;33m]\u001b[0m\u001b[1;33m)\u001b[0m\u001b[1;33m:\u001b[0m\u001b[1;33m\u001b[0m\u001b[0m\n\u001b[0m\u001b[0;32m     15\u001b[0m                 \u001b[0mmax\u001b[0m \u001b[1;33m=\u001b[0m \u001b[0mj\u001b[0m\u001b[1;33m\u001b[0m\u001b[0m\n\u001b[0;32m     16\u001b[0m             \u001b[1;32mif\u001b[0m\u001b[1;33m(\u001b[0m\u001b[0mtemp\u001b[0m\u001b[1;33m[\u001b[0m\u001b[1;33m-\u001b[0m\u001b[1;33m(\u001b[0m\u001b[0mj\u001b[0m\u001b[1;33m)\u001b[0m\u001b[1;33m]\u001b[0m \u001b[1;33m>\u001b[0m \u001b[0mtemp\u001b[0m\u001b[1;33m[\u001b[0m\u001b[0mmax\u001b[0m\u001b[1;33m]\u001b[0m\u001b[1;33m)\u001b[0m\u001b[1;33m:\u001b[0m\u001b[1;33m\u001b[0m\u001b[0m\n",
      "\u001b[1;31mIndexError\u001b[0m: list index out of range"
     ]
    }
   ],
   "source": [
    "teamFormation([6,18,8,14,10,12,18,9],8,3)"
   ]
  },
  {
   "cell_type": "code",
   "execution_count": 22,
   "metadata": {
    "collapsed": true
   },
   "outputs": [],
   "source": [
    "def textQueries(sentences, queries):\n",
    "    index = []\n",
    "    for ele in queries:\n",
    "        for each in ele:\n",
    "            pos = ''\n",
    "            index = 0\n",
    "            for s in sentences:\n",
    "                for word in s:\n",
    "                    if each == s:\n",
    "                        pos += index\n",
    "                        pos += ' '\n",
    "                index += 1\n",
    "            index.append(pos)\n",
    "    return index\n",
    "                    "
   ]
  },
  {
   "cell_type": "code",
   "execution_count": null,
   "metadata": {
    "collapsed": true
   },
   "outputs": [],
   "source": []
  }
 ],
 "metadata": {
  "kernelspec": {
   "display_name": "Python 3",
   "language": "python",
   "name": "python3"
  },
  "language_info": {
   "codemirror_mode": {
    "name": "ipython",
    "version": 3
   },
   "file_extension": ".py",
   "mimetype": "text/x-python",
   "name": "python",
   "nbconvert_exporter": "python",
   "pygments_lexer": "ipython3",
   "version": "3.6.1"
  }
 },
 "nbformat": 4,
 "nbformat_minor": 2
}
