{
 "cells": [
  {
   "cell_type": "code",
   "execution_count": 9,
   "metadata": {},
   "outputs": [
    {
     "data": {
      "text/plain": [
       "285"
      ]
     },
     "execution_count": 9,
     "metadata": {},
     "output_type": "execute_result"
    }
   ],
   "source": [
    "def integral(F,A,B,dx):\n",
    "    if A >= B:\n",
    "        return F(B)*dx\n",
    "    return F(A)*dx+integral(F,A+dx,B,dx)\n",
    "\n",
    "integral(lambda x:x**2,0,9,1)"
   ]
  },
  {
   "cell_type": "code",
   "execution_count": 11,
   "metadata": {},
   "outputs": [
    {
     "data": {
      "text/plain": [
       "263.625"
      ]
     },
     "execution_count": 11,
     "metadata": {},
     "output_type": "execute_result"
    }
   ],
   "source": [
    "integral(lambda x:x**2,0,9,0.5)"
   ]
  },
  {
   "cell_type": "code",
   "execution_count": 12,
   "metadata": {},
   "outputs": [
    {
     "data": {
      "text/plain": [
       "255.1649999999996"
      ]
     },
     "execution_count": 12,
     "metadata": {},
     "output_type": "execute_result"
    }
   ],
   "source": [
    "integral(lambda x:x**2,0,9,0.1)"
   ]
  },
  {
   "cell_type": "code",
   "execution_count": 13,
   "metadata": {},
   "outputs": [
    {
     "data": {
      "text/plain": [
       "530"
      ]
     },
     "execution_count": 13,
     "metadata": {},
     "output_type": "execute_result"
    }
   ],
   "source": [
    "integral(lambda x:x**2,0,9,5)"
   ]
  },
  {
   "cell_type": "code",
   "execution_count": 14,
   "metadata": {},
   "outputs": [
    {
     "data": {
      "text/plain": [
       "285"
      ]
     },
     "execution_count": 14,
     "metadata": {},
     "output_type": "execute_result"
    }
   ],
   "source": [
    "def tailIntegral(F,A,B,dx):\n",
    "    def acc(result, progress):\n",
    "        if progress>B:\n",
    "            return result\n",
    "        return acc(result+F(progress)*dx,progress+dx)\n",
    "    return acc(0,A)\n",
    "\n",
    "integral(lambda x:x**2,0,9,1)"
   ]
  },
  {
   "cell_type": "code",
   "execution_count": 15,
   "metadata": {},
   "outputs": [
    {
     "data": {
      "text/plain": [
       "263.625"
      ]
     },
     "execution_count": 15,
     "metadata": {},
     "output_type": "execute_result"
    }
   ],
   "source": [
    "integral(lambda x:x**2,0,9,0.5)"
   ]
  },
  {
   "cell_type": "code",
   "execution_count": 22,
   "metadata": {},
   "outputs": [
    {
     "name": "stdout",
     "output_type": "stream",
     "text": [
      "Total calls made:  38\n"
     ]
    },
    {
     "data": {
      "text/plain": [
       "253.21875"
      ]
     },
     "execution_count": 22,
     "metadata": {},
     "output_type": "execute_result"
    }
   ],
   "source": [
    "# show the number of calls made\n",
    "calls = 0\n",
    "def tailIntegral(F,A,B,dx):\n",
    "    def acc(result, progress):\n",
    "        global calls\n",
    "        calls += 1\n",
    "        if progress>B:\n",
    "            print(\"Total calls made: \",calls)\n",
    "            return result\n",
    "        return acc(result+F(progress)*dx,progress+dx)\n",
    "    return acc(0,A)\n",
    "\n",
    "tailIntegral(lambda x:x**2,0,9,0.25)"
   ]
  },
  {
   "cell_type": "code",
   "execution_count": 33,
   "metadata": {},
   "outputs": [
    {
     "data": {
      "text/plain": [
       "32"
      ]
     },
     "execution_count": 33,
     "metadata": {},
     "output_type": "execute_result"
    }
   ],
   "source": [
    "#2**5\n",
    "def power(x,y):\n",
    "    if y==0:\n",
    "        return 1\n",
    "    if y%2==0:\n",
    "        return power(x*x, int(y/2))\n",
    "    return x*power(x*x, int(y/2))\n",
    "\n",
    "power(2,5)"
   ]
  },
  {
   "cell_type": "code",
   "execution_count": 28,
   "metadata": {},
   "outputs": [
    {
     "data": {
      "text/plain": [
       "27"
      ]
     },
     "execution_count": 28,
     "metadata": {},
     "output_type": "execute_result"
    }
   ],
   "source": [
    "power(3,3)"
   ]
  },
  {
   "cell_type": "code",
   "execution_count": 20,
   "metadata": {},
   "outputs": [
    {
     "name": "stdout",
     "output_type": "stream",
     "text": [
      "1 , 2 , 5\n",
      "2 , 4 , 2\n",
      "32 , 16 , 1\n"
     ]
    },
    {
     "data": {
      "text/plain": [
       "32"
      ]
     },
     "execution_count": 20,
     "metadata": {},
     "output_type": "execute_result"
    }
   ],
   "source": [
    "def tailPower(x,y):\n",
    "    def acc(result,p, q):\n",
    "        print(result, ',', p,',',q)\n",
    "        if q==1:\n",
    "            return result\n",
    "        if q%2==0:\n",
    "            return acc(result*p*p, p*p, int(q/2))\n",
    "        return acc(result*p, p*p, int(q/2))\n",
    "    return acc(1,x,y)\n",
    "\n",
    "tailPower(2,5)      "
   ]
  },
  {
   "cell_type": "code",
   "execution_count": 37,
   "metadata": {},
   "outputs": [
    {
     "name": "stdout",
     "output_type": "stream",
     "text": [
      "last stack value: 0\n",
      "1\n",
      "2\n",
      "3\n",
      "4\n",
      "5\n",
      "6\n",
      "7\n",
      "8\n",
      "9\n",
      "10\n"
     ]
    }
   ],
   "source": [
    "def head(n):\n",
    "    if n==0:\n",
    "        print(\"last stack value:\", n)\n",
    "        return\n",
    "    head(n-1)\n",
    "    print(n)\n",
    "    return\n",
    "head(10)"
   ]
  },
  {
   "cell_type": "code",
   "execution_count": 39,
   "metadata": {},
   "outputs": [
    {
     "name": "stdout",
     "output_type": "stream",
     "text": [
      "10\n",
      "9\n",
      "8\n",
      "7\n",
      "6\n",
      "5\n",
      "4\n",
      "3\n",
      "2\n",
      "1\n",
      "last stack value: 0\n"
     ]
    }
   ],
   "source": [
    "def tail(n):\n",
    "    if n==0:\n",
    "        print(\"last stack value:\", n)\n",
    "        return\n",
    "    print(n)\n",
    "    tail(n-1)\n",
    "    return\n",
    "tail(10)"
   ]
  },
  {
   "cell_type": "code",
   "execution_count": null,
   "metadata": {
    "collapsed": true
   },
   "outputs": [],
   "source": []
  }
 ],
 "metadata": {
  "kernelspec": {
   "display_name": "Python 3",
   "language": "python",
   "name": "python3"
  },
  "language_info": {
   "codemirror_mode": {
    "name": "ipython",
    "version": 3
   },
   "file_extension": ".py",
   "mimetype": "text/x-python",
   "name": "python",
   "nbconvert_exporter": "python",
   "pygments_lexer": "ipython3",
   "version": "3.6.1"
  }
 },
 "nbformat": 4,
 "nbformat_minor": 2
}
