{
 "cells": [
  {
   "cell_type": "code",
   "execution_count": null,
   "metadata": {},
   "outputs": [
    {
     "name": "stdout",
     "output_type": "stream",
     "text": [
      "\n",
      "Welcome to Python 3.6's help utility!\n",
      "\n",
      "If this is your first time using Python, you should definitely check out\n",
      "the tutorial on the Internet at http://docs.python.org/3.6/tutorial/.\n",
      "\n",
      "Enter the name of any module, keyword, or topic to get help on writing\n",
      "Python programs and using Python modules.  To quit this help utility and\n",
      "return to the interpreter, just type \"quit\".\n",
      "\n",
      "To get a list of available modules, keywords, symbols, or topics, type\n",
      "\"modules\", \"keywords\", \"symbols\", or \"topics\".  Each module also comes\n",
      "with a one-line summary of what it does; to list the modules whose name\n",
      "or summary contain a given string such as \"spam\", type \"modules spam\".\n",
      "\n",
      "help> modules\n",
      "\n",
      "Please wait a moment while I gather a list of all available modules...\n",
      "\n"
     ]
    },
    {
     "name": "stderr",
     "output_type": "stream",
     "text": [
      "C:\\Anaconda3\\lib\\site-packages\\IPython\\kernel\\__init__.py:13: ShimWarning: The `IPython.kernel` package has been deprecated since IPython 4.0.You should import from ipykernel or jupyter_client instead.\n",
      "  \"You should import from ipykernel or jupyter_client instead.\", ShimWarning)\n",
      "C:\\Anaconda3\\lib\\site-packages\\odo\\backends\\pandas.py:94: FutureWarning: pandas.tslib is deprecated and will be removed in a future version.\n",
      "You can access NaTType as type(pandas.NaT)\n",
      "  @convert.register((pd.Timestamp, pd.Timedelta), (pd.tslib.NaTType, type(None)))\n",
      "C:\\Anaconda3\\lib\\site-packages\\blaze\\server\\server.py:17: ExtDeprecationWarning: Importing flask.ext.cors is deprecated, use flask_cors instead.\n",
      "  from flask.ext.cors import cross_origin\n",
      "C:\\Anaconda3\\lib\\site-packages\\bokeh\\util\\deprecation.py:34: BokehDeprecationWarning: MPL compatibility can no longer be successfully maintained, and is now deprecated. All MPL compat functions will be removed completely on the release of Bokeh 1.0. See http://bokeh.pydata.org/en/latest/docs/releases/0.12.5.html for more information\n",
      "  warn(message)\n",
      "C:\\Anaconda3\\lib\\site-packages\\matplotlib\\cbook.py:136: MatplotlibDeprecationWarning: The matplotlib.delaunay module was deprecated in version 1.4. Use matplotlib.tri.Triangulation instead.\n",
      "  warnings.warn(message, mplDeprecation, stacklevel=1)\n",
      "C:\\Anaconda3\\lib\\site-packages\\nltk\\twitter\\__init__.py:20: UserWarning: The twython library has not been installed. Some functionality from the twitter package will not be available.\n",
      "  warnings.warn(\"The twython library has not been installed. \"\n",
      "C:\\Anaconda3\\lib\\site-packages\\skimage\\viewer\\utils\\core.py:10: UserWarning: Recommended matplotlib backend is `Agg` for full skimage.viewer functionality.\n",
      "  warn(\"Recommended matplotlib backend is `Agg` for full \"\n",
      "C:\\Anaconda3\\lib\\site-packages\\qtawesome\\iconic_font.py:268: UserWarning: You need to have a running QApplication to use QtAwesome!\n",
      "  warnings.warn(\"You need to have a running \"\n",
      "C:\\Anaconda3\\lib\\site-packages\\statsmodels\\compat\\pandas.py:56: FutureWarning: The pandas.core.datetools module is deprecated and will be removed in a future version. Please use the pandas.tseries module instead.\n",
      "  from pandas.core import datetools\n"
     ]
    },
    {
     "name": "stdout",
     "output_type": "stream",
     "text": [
      "Crypto              cgitb               mpl_toolkits        spyder_profiler\n",
      "Cython              chardet             mpmath              spyder_pylint\n",
      "IPython             chunk               msgpack             sqlalchemy\n",
      "OleFileIO_PL        click               msilib              sqlite3\n",
      "OpenSSL             cloudpickle         msvcrt              sre_compile\n",
      "PIL                 clyent              multipledispatch    sre_constants\n",
      "PyQt5               cmath               multiprocessing     sre_parse\n",
      "__future__          cmd                 navigator_updater   ssl\n",
      "_ast                code                nbconvert           sspi\n",
      "_asyncio            codecs              nbformat            sspicon\n",
      "_bisect             codeop              netbios             stat\n",
      "_blake2             collections         netrc               statistics\n",
      "_bootlocale         colorama            networkx            statsmodels\n",
      "_bz2                colorsys            nltk                storemagic\n",
      "_cffi_backend       commctrl            nntplib             string\n",
      "_codecs             compileall          nose                stringprep\n",
      "_codecs_cn          comtypes            notebook            struct\n",
      "_codecs_hk          concurrent          nt                  subprocess\n",
      "_codecs_iso2022     conda               ntpath              sunau\n",
      "_codecs_jp          conda_env           ntsecuritycon       symbol\n",
      "_codecs_kr          configparser        nturl2path          sympy\n",
      "_codecs_tw          contextlib          numba               sympyprinting\n",
      "_collections        contextlib2         numbers             symtable\n",
      "_collections_abc    copy                numexpr             sys\n",
      "_compat_pickle      copyreg             numpy               sysconfig\n",
      "_compression        crypt               numpydoc            tables\n",
      "_csv                cryptography        odbc                tabnanny\n",
      "_ctypes             csv                 odo                 tarfile\n",
      "_ctypes_test        ctypes              olefile             tblib\n",
      "_datetime           curl                opcode              telnetlib\n",
      "_decimal            curses              openpyxl            tempfile\n",
      "_dummy_thread       cwp                 operator            test\n",
      "_elementtree        cycler              optparse            test_path\n",
      "_functools          cython              os                  test_pycosat\n",
      "_hashlib            cythonmagic         packaging           testpath\n",
      "_heapq              cytoolz             pandas              tests\n",
      "_imp                dask                pandocfilters       textwrap\n",
      "_io                 datashape           parser              this\n",
      "_json               datetime            partd               threading\n",
      "_license            dateutil            path                time\n",
      "_locale             dbi                 pathlib             timeit\n",
      "_lsprof             dbm                 pathlib2            timer\n",
      "_lzma               dde                 patsy               tkinter\n",
      "_markupbase         decimal             pdb                 tlz\n",
      "_md5                decorator           pep8                token\n",
      "_msi                difflib             perfmon             tokenize\n",
      "_multibytecodec     dis                 pickle              toolz\n",
      "_multiprocessing    distributed         pickleshare         tornado\n",
      "_nsis               distutils           pickletools         trace\n",
      "_opcode             doctest             pip                 traceback\n",
      "_operator           docutils            pipes               tracemalloc\n",
      "_osx_support        dummy_threading     pkg_resources       traitlets\n",
      "_overlapped         easy_install        pkgutil             tty\n",
      "_pickle             email               platform            turtle\n",
      "_pydecimal          encodings           plistlib            turtledemo\n",
      "_pyio               ensurepip           ply                 types\n",
      "_pytest             entrypoints         poplib              typing\n",
      "_random             enum                posixpath           unicodecsv\n",
      "_sha1               errno               pprint              unicodedata\n",
      "_sha256             et_xmlfile          profile             unittest\n",
      "_sha3               fastcache           prompt_toolkit      urllib\n",
      "_sha512             faulthandler        pstats              uu\n",
      "_signal             filecmp             psutil              uuid\n",
      "_sitebuiltins       fileinput           pty                 venv\n",
      "_socket             flask               py                  warnings\n",
      "_sqlite3            flask_cors          py_compile          wave\n",
      "_sre                fnmatch             pyclbr              wcwidth\n",
      "_ssl                formatter           pycosat             weakref\n",
      "_stat               fractions           pycparser           webbrowser\n",
      "_string             ftplib              pycurl              werkzeug\n",
      "_strptime           functools           pydoc               wheel\n",
      "_struct             gc                  pydoc_data          widgetsnbextension\n",
      "_symtable           genericpath         pyexpat             win2kras\n",
      "_system_path        getopt              pyflakes            win32api\n",
      "_testbuffer         getpass             pygments            win32clipboard\n",
      "_testcapi           gettext             pylab               win32com\n",
      "_testconsole        gevent              pylint              win32con\n",
      "_testimportmultiple glob                pyodbc              win32console\n",
      "_testmultiphase     greenlet            pyparsing           win32cred\n",
      "_thread             gzip                pytest              win32crypt\n",
      "_threading_local    h5py                pythoncom           win32cryptcon\n",
      "_tkinter            hashlib             pytz                win32event\n",
      "_tracemalloc        heapdict            pywin               win32evtlog\n",
      "_warnings           heapq               pywin32_testutil    win32evtlogutil\n",
      "_weakref            hmac                pywintypes          win32file\n",
      "_weakrefset         html                pywt                win32gui\n",
      "_win32sysloader     html5lib            pyximport           win32gui_struct\n",
      "_winapi             http                qtawesome           win32help\n",
      "_winxptheme         idlelib             qtconsole           win32inet\n",
      "abc                 idna                qtpy                win32inetcon\n",
      "adodbapi            imagesize           queue               win32job\n",
      "afxres              imaplib             quopri              win32lz\n",
      "aifc                imghdr              random              win32net\n",
      "alabaster           imp                 rasutil             win32netcon\n",
      "anaconda_navigator  importlib           re                  win32pdh\n",
      "anaconda_project    inspect             regcheck            win32pdhquery\n",
      "antigravity         io                  regutil             win32pdhutil\n",
      "argparse            ipaddress           reprlib             win32pipe\n",
      "array               ipykernel           requests            win32print\n",
      "asn1crypto          ipykernel_launcher  rlcompleter         win32process\n",
      "ast                 ipython_genutils    rmagic              win32profile\n",
      "astroid             ipywidgets          rope                win32ras\n",
      "astropy             isapi               ruamel_yaml         win32rcparser\n",
      "asynchat            isort               run                 win32security\n",
      "asyncio             itertools           runpy               win32service\n",
      "asyncore            itsdangerous        sched               win32serviceutil\n",
      "atexit              jdcal               scipy               win32timezone\n",
      "audioop             jedi                scripts             win32trace\n",
      "autoreload          jinja2              seaborn             win32traceutil\n",
      "babel               json                secrets             win32transaction\n",
      "backports           jsonschema          select              win32ts\n",
      "base64              jupyter             selectors           win32ui\n",
      "bdb                 jupyter_client      servicemanager      win32uiole\n",
      "binascii            jupyter_console     setuptools          win32verstamp\n",
      "binhex              jupyter_core        shelve              win32wnet\n",
      "binstar_client      keyword             shlex               win_unicode_console\n",
      "bisect              lazy_object_proxy   shutil              winerror\n",
      "bitarray            lib2to3             signal              winioctlcon\n",
      "blaze               linecache           simplegeneric       winnt\n",
      "bleach              llvmlite            singledispatch      winperf\n",
      "bokeh               locale              singledispatch_helpers winreg\n",
      "boto                locket              sip                 winsound\n",
      "bottleneck          logging             sipconfig           winxpgui\n",
      "brain_builtin_inference lxml                sipdistutils        winxptheme\n",
      "brain_dateutil      lzma                site                wrapt\n",
      "brain_gi            macpath             six                 wsgiref\n",
      "brain_mechanize     macurl2path         skimage             xdrlib\n",
      "brain_nose          mailbox             sklearn             xlrd\n",
      "brain_numpy         mailcap             smtpd               xlsxwriter\n",
      "brain_pytest        markupsafe          smtplib             xlwings\n",
      "brain_qt            marshal             sndhdr              xlwt\n",
      "brain_six           math                snowballstemmer     xml\n",
      "brain_ssl           matplotlib          socket              xmlrpc\n",
      "brain_stdlib        menuinst            socketserver        xxsubtype\n",
      "bs4                 mimetypes           sortedcollections   yaml\n",
      "builtins            mistune             sortedcontainers    zict\n",
      "bz2                 mkl                 sphinx              zipapp\n",
      "cProfile            mmap                spyder              zipfile\n",
      "calendar            mmapfile            spyder_breakpoints  zipimport\n",
      "cffi                mmsystem            spyder_io_dcm       zlib\n",
      "cgi                 modulefinder        spyder_io_hdf5      zmq\n",
      "\n",
      "Enter any module name to get more help.  Or, type \"modules spam\" to search\n",
      "for modules whose name or summary contain the string \"spam\".\n",
      "\n"
     ]
    }
   ],
   "source": [
    "help()"
   ]
  },
  {
   "cell_type": "code",
   "execution_count": null,
   "metadata": {
    "collapsed": true
   },
   "outputs": [],
   "source": [
    "help()"
   ]
  },
  {
   "cell_type": "code",
   "execution_count": 3,
   "metadata": {},
   "outputs": [
    {
     "data": {
      "text/plain": [
       "6"
      ]
     },
     "execution_count": 3,
     "metadata": {},
     "output_type": "execute_result"
    }
   ],
   "source": [
    "len(\"Python\")"
   ]
  },
  {
   "cell_type": "code",
   "execution_count": 4,
   "metadata": {},
   "outputs": [
    {
     "data": {
      "text/plain": [
       "True"
      ]
     },
     "execution_count": 4,
     "metadata": {},
     "output_type": "execute_result"
    }
   ],
   "source": [
    "1 is not 1.00"
   ]
  },
  {
   "cell_type": "code",
   "execution_count": 5,
   "metadata": {},
   "outputs": [
    {
     "data": {
      "text/plain": [
       "int"
      ]
     },
     "execution_count": 5,
     "metadata": {},
     "output_type": "execute_result"
    }
   ],
   "source": [
    "type(1)"
   ]
  },
  {
   "cell_type": "code",
   "execution_count": 6,
   "metadata": {},
   "outputs": [
    {
     "data": {
      "text/plain": [
       "float"
      ]
     },
     "execution_count": 6,
     "metadata": {},
     "output_type": "execute_result"
    }
   ],
   "source": [
    "type(1.00)"
   ]
  },
  {
   "cell_type": "code",
   "execution_count": 7,
   "metadata": {},
   "outputs": [
    {
     "data": {
      "text/plain": [
       "True"
      ]
     },
     "execution_count": 7,
     "metadata": {},
     "output_type": "execute_result"
    }
   ],
   "source": [
    "2 < 3<5"
   ]
  },
  {
   "cell_type": "code",
   "execution_count": 8,
   "metadata": {},
   "outputs": [
    {
     "data": {
      "text/plain": [
       "False"
      ]
     },
     "execution_count": 8,
     "metadata": {},
     "output_type": "execute_result"
    }
   ],
   "source": [
    "2 == 2 == 3"
   ]
  },
  {
   "cell_type": "code",
   "execution_count": 9,
   "metadata": {},
   "outputs": [
    {
     "data": {
      "text/plain": [
       "True"
      ]
     },
     "execution_count": 9,
     "metadata": {},
     "output_type": "execute_result"
    }
   ],
   "source": [
    "'ABC' == 'ABC'"
   ]
  },
  {
   "cell_type": "code",
   "execution_count": 10,
   "metadata": {},
   "outputs": [
    {
     "data": {
      "text/plain": [
       "True"
      ]
     },
     "execution_count": 10,
     "metadata": {},
     "output_type": "execute_result"
    }
   ],
   "source": [
    "'a' < 'b'"
   ]
  },
  {
   "cell_type": "code",
   "execution_count": 11,
   "metadata": {},
   "outputs": [
    {
     "data": {
      "text/plain": [
       "True"
      ]
     },
     "execution_count": 11,
     "metadata": {},
     "output_type": "execute_result"
    }
   ],
   "source": [
    "'A' < 'a'"
   ]
  },
  {
   "cell_type": "code",
   "execution_count": 12,
   "metadata": {},
   "outputs": [
    {
     "data": {
      "text/plain": [
       "True"
      ]
     },
     "execution_count": 12,
     "metadata": {},
     "output_type": "execute_result"
    }
   ],
   "source": [
    "2 < 10 > 5 #bad way of coding"
   ]
  },
  {
   "cell_type": "code",
   "execution_count": 13,
   "metadata": {},
   "outputs": [
    {
     "data": {
      "text/plain": [
       "True"
      ]
     },
     "execution_count": 13,
     "metadata": {},
     "output_type": "execute_result"
    }
   ],
   "source": [
    "2 < 3 == 3.00 < 4 < 5 < 6 == 6.00"
   ]
  },
  {
   "cell_type": "code",
   "execution_count": 14,
   "metadata": {},
   "outputs": [
    {
     "name": "stdout",
     "output_type": "stream",
     "text": [
      "\n",
      "Welcome to Python 3.6's help utility!\n",
      "\n",
      "If this is your first time using Python, you should definitely check out\n",
      "the tutorial on the Internet at http://docs.python.org/3.6/tutorial/.\n",
      "\n",
      "Enter the name of any module, keyword, or topic to get help on writing\n",
      "Python programs and using Python modules.  To quit this help utility and\n",
      "return to the interpreter, just type \"quit\".\n",
      "\n",
      "To get a list of available modules, keywords, symbols, or topics, type\n",
      "\"modules\", \"keywords\", \"symbols\", or \"topics\".  Each module also comes\n",
      "with a one-line summary of what it does; to list the modules whose name\n",
      "or summary contain a given string such as \"spam\", type \"modules spam\".\n",
      "\n",
      "help> if\n",
      "The \"if\" statement\n",
      "******************\n",
      "\n",
      "The \"if\" statement is used for conditional execution:\n",
      "\n",
      "   if_stmt ::= \"if\" expression \":\" suite\n",
      "               ( \"elif\" expression \":\" suite )*\n",
      "               [\"else\" \":\" suite]\n",
      "\n",
      "It selects exactly one of the suites by evaluating the expressions one\n",
      "by one until one is found to be true (see section Boolean operations\n",
      "for the definition of true and false); then that suite is executed\n",
      "(and no other part of the \"if\" statement is executed or evaluated).\n",
      "If all expressions are false, the suite of the \"else\" clause, if\n",
      "present, is executed.\n",
      "\n",
      "Related help topics: TRUTHVALUE\n",
      "\n",
      "help> TRUTHVALUE\n",
      "Truth Value Testing\n",
      "*******************\n",
      "\n",
      "Any object can be tested for truth value, for use in an \"if\" or\n",
      "\"while\" condition or as operand of the Boolean operations below. The\n",
      "following values are considered false:\n",
      "\n",
      "* \"None\"\n",
      "\n",
      "* \"False\"\n",
      "\n",
      "* zero of any numeric type, for example, \"0\", \"0.0\", \"0j\".\n",
      "\n",
      "* any empty sequence, for example, \"''\", \"()\", \"[]\".\n",
      "\n",
      "* any empty mapping, for example, \"{}\".\n",
      "\n",
      "* instances of user-defined classes, if the class defines a\n",
      "  \"__bool__()\" or \"__len__()\" method, when that method returns the\n",
      "  integer zero or \"bool\" value \"False\". [1]\n",
      "\n",
      "All other values are considered true --- so objects of many types are\n",
      "always true.\n",
      "\n",
      "Operations and built-in functions that have a Boolean result always\n",
      "return \"0\" or \"False\" for false and \"1\" or \"True\" for true, unless\n",
      "otherwise stated. (Important exception: the Boolean operations \"or\"\n",
      "and \"and\" always return one of their operands.)\n",
      "\n",
      "Related help topics: if, while, and, or, not, BASICMETHODS\n",
      "\n",
      "help> quit\n",
      "\n",
      "You are now leaving help and returning to the Python interpreter.\n",
      "If you want to ask for help on a particular object directly from the\n",
      "interpreter, you can type \"help(object)\".  Executing \"help('string')\"\n",
      "has the same effect as typing a particular string at the help> prompt.\n"
     ]
    }
   ],
   "source": [
    "help()"
   ]
  },
  {
   "cell_type": "code",
   "execution_count": 15,
   "metadata": {},
   "outputs": [
    {
     "data": {
      "text/plain": [
       "False"
      ]
     },
     "execution_count": 15,
     "metadata": {},
     "output_type": "execute_result"
    }
   ],
   "source": [
    "not 5"
   ]
  },
  {
   "cell_type": "code",
   "execution_count": 16,
   "metadata": {
    "collapsed": true
   },
   "outputs": [],
   "source": [
    "x = not 2"
   ]
  },
  {
   "cell_type": "code",
   "execution_count": 17,
   "metadata": {},
   "outputs": [
    {
     "data": {
      "text/plain": [
       "False"
      ]
     },
     "execution_count": 17,
     "metadata": {},
     "output_type": "execute_result"
    }
   ],
   "source": [
    "x"
   ]
  },
  {
   "cell_type": "code",
   "execution_count": 18,
   "metadata": {
    "collapsed": true
   },
   "outputs": [],
   "source": [
    "x = 2 or 0"
   ]
  },
  {
   "cell_type": "code",
   "execution_count": 19,
   "metadata": {},
   "outputs": [
    {
     "data": {
      "text/plain": [
       "2"
      ]
     },
     "execution_count": 19,
     "metadata": {},
     "output_type": "execute_result"
    }
   ],
   "source": [
    "x"
   ]
  },
  {
   "cell_type": "code",
   "execution_count": 1,
   "metadata": {
    "collapsed": true
   },
   "outputs": [],
   "source": [
    "x = 2 and 1"
   ]
  },
  {
   "cell_type": "code",
   "execution_count": 2,
   "metadata": {},
   "outputs": [
    {
     "data": {
      "text/plain": [
       "1"
      ]
     },
     "execution_count": 2,
     "metadata": {},
     "output_type": "execute_result"
    }
   ],
   "source": [
    "x"
   ]
  },
  {
   "cell_type": "code",
   "execution_count": 3,
   "metadata": {
    "collapsed": true
   },
   "outputs": [],
   "source": [
    "x = 2 or 1"
   ]
  },
  {
   "cell_type": "code",
   "execution_count": 4,
   "metadata": {},
   "outputs": [
    {
     "data": {
      "text/plain": [
       "2"
      ]
     },
     "execution_count": 4,
     "metadata": {},
     "output_type": "execute_result"
    }
   ],
   "source": [
    "x"
   ]
  },
  {
   "cell_type": "code",
   "execution_count": null,
   "metadata": {
    "collapsed": true
   },
   "outputs": [],
   "source": []
  }
 ],
 "metadata": {
  "kernelspec": {
   "display_name": "Python 3",
   "language": "python",
   "name": "python3"
  },
  "language_info": {
   "codemirror_mode": {
    "name": "ipython",
    "version": 3
   },
   "file_extension": ".py",
   "mimetype": "text/x-python",
   "name": "python",
   "nbconvert_exporter": "python",
   "pygments_lexer": "ipython3",
   "version": "3.6.1"
  }
 },
 "nbformat": 4,
 "nbformat_minor": 2
}
