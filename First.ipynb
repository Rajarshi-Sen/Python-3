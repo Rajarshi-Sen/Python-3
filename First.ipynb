{
 "cells": [
  {
   "cell_type": "code",
   "execution_count": 1,
   "metadata": {
    "collapsed": true
   },
   "outputs": [],
   "source": [
    "import turtle"
   ]
  },
  {
   "cell_type": "code",
   "execution_count": 2,
   "metadata": {
    "collapsed": true
   },
   "outputs": [],
   "source": [
    "def dotted_line(length):\n",
    "    turtle.penup()\n",
    "    turtle.forward(10)\n",
    "    turtle.pendown()\n",
    "    turtle.forward(length)\n",
    "    turtle.penup()\n",
    "    turtle.forward(10)\n",
    "    turtle.left(90)\n",
    "    return\n"
   ]
  },
  {
   "cell_type": "code",
   "execution_count": 3,
   "metadata": {
    "collapsed": true
   },
   "outputs": [],
   "source": [
    "def dotted_square(length):\n",
    "    for i in range(4):\n",
    "        dotted_line(length)\n",
    "    return\n"
   ]
  },
  {
   "cell_type": "code",
   "execution_count": 4,
   "metadata": {},
   "outputs": [
    {
     "name": "stdout",
     "output_type": "stream",
     "text": [
      "Enter the length of the Square: 40\n"
     ]
    }
   ],
   "source": [
    "input_var = int(input('Enter the length of the Square: '))\n",
    "dotted_square(input_var)\n",
    "turtle.done()"
   ]
  },
  {
   "cell_type": "code",
   "execution_count": 18,
   "metadata": {
    "collapsed": true
   },
   "outputs": [],
   "source": [
    "def triangle(angle, reps, change_inclination):\n",
    "    int_angle = 180 - angle\n",
    "    reps = reps or 1\n",
    "    change_inclination = change_inclination or 0\n",
    "    for i in range(0,reps):\n",
    "        #turtle.left(change_inclination)\n",
    "        turtle.forward(50)\n",
    "        for j in range(3):\n",
    "            turtle.left(int_angle)\n",
    "            turtle.forward(50)\n",
    "        turtle.left(int_angle)\n",
    "    return\n"
   ]
  },
  {
   "cell_type": "code",
   "execution_count": 19,
   "metadata": {},
   "outputs": [],
   "source": [
    "triangle(60, 0, 0)\n",
    "turtle.done()"
   ]
  },
  {
   "cell_type": "code",
   "execution_count": null,
   "metadata": {},
   "outputs": [],
   "source": [
    "turtle.clear()\n",
    "turtle.done()"
   ]
  },
  {
   "cell_type": "code",
   "execution_count": null,
   "metadata": {},
   "outputs": [],
   "source": [
    "turtle.right(180)\n",
    "i = 0\n",
    "while i < 11:\n",
    "    turtle.forward(20)\n",
    "    turtle.right(30)\n",
    "    i = i + 1\n",
    "turtle.forward(40)\n",
    "turtle.done()"
   ]
  },
  {
   "cell_type": "code",
   "execution_count": null,
   "metadata": {
    "collapsed": true
   },
   "outputs": [],
   "source": []
  }
 ],
 "metadata": {
  "kernelspec": {
   "display_name": "Python 3",
   "language": "python",
   "name": "python3"
  },
  "language_info": {
   "codemirror_mode": {
    "name": "ipython",
    "version": 3
   },
   "file_extension": ".py",
   "mimetype": "text/x-python",
   "name": "python",
   "nbconvert_exporter": "python",
   "pygments_lexer": "ipython3",
   "version": "3.6.1"
  }
 },
 "nbformat": 4,
 "nbformat_minor": 2
}
